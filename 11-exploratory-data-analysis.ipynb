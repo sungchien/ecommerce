{
 "cells": [
  {
   "cell_type": "markdown",
   "metadata": {},
   "source": [
    "### 載入套件與讀取資料"
   ]
  },
  {
   "cell_type": "markdown",
   "metadata": {},
   "source": [
    "載入套件"
   ]
  },
  {
   "cell_type": "code",
   "execution_count": 1,
   "metadata": {},
   "outputs": [],
   "source": [
    "import pandas as pd\n"
   ]
  },
  {
   "cell_type": "markdown",
   "metadata": {},
   "source": [
    "讀取資料集檔案[線上零售資料集](https://archive.ics.uci.edu/ml/datasets/Online+Retail)"
   ]
  },
  {
   "cell_type": "code",
   "execution_count": 2,
   "metadata": {},
   "outputs": [],
   "source": [
    "df = pd.read_excel('Online Retail.xlsx')"
   ]
  },
  {
   "cell_type": "markdown",
   "metadata": {},
   "source": [
    "### 資料的資訊"
   ]
  },
  {
   "cell_type": "markdown",
   "metadata": {},
   "source": [
    "讀取的資料大小"
   ]
  },
  {
   "cell_type": "code",
   "execution_count": null,
   "metadata": {},
   "outputs": [],
   "source": [
    "df.shape"
   ]
  },
  {
   "cell_type": "markdown",
   "metadata": {},
   "source": [
    "541909列(rows，紀錄)，8行(columns，欄位)"
   ]
  },
  {
   "cell_type": "markdown",
   "metadata": {},
   "source": [
    "資料的欄位名稱"
   ]
  },
  {
   "cell_type": "code",
   "execution_count": null,
   "metadata": {},
   "outputs": [],
   "source": [
    "df.columns"
   ]
  },
  {
   "cell_type": "markdown",
   "metadata": {},
   "source": [
    "這是一個交易發票的檔案，包含發票編號(InvoiceNo)、貨品編號(StockCode)、描述(Description)、數量(Quantity)、發票日期(InvoiceDate)、單價(UnitPrice)、顧客識別號(CustomerID)、國別(Country)等變數欄位。"
   ]
  },
  {
   "cell_type": "markdown",
   "metadata": {},
   "source": [
    "數值類型的欄位資料的統計描述情形"
   ]
  },
  {
   "cell_type": "code",
   "execution_count": null,
   "metadata": {},
   "outputs": [],
   "source": [
    "df.describe()"
   ]
  },
  {
   "cell_type": "markdown",
   "metadata": {},
   "source": [
    "### 資料的內容"
   ]
  },
  {
   "cell_type": "markdown",
   "metadata": {},
   "source": [
    "前五筆資料"
   ]
  },
  {
   "cell_type": "code",
   "execution_count": null,
   "metadata": {},
   "outputs": [],
   "source": [
    "df[:5]"
   ]
  },
  {
   "cell_type": "markdown",
   "metadata": {},
   "source": [
    "後五筆資料"
   ]
  },
  {
   "cell_type": "code",
   "execution_count": null,
   "metadata": {},
   "outputs": [],
   "source": [
    "df[-5:]"
   ]
  },
  {
   "cell_type": "markdown",
   "metadata": {},
   "source": [
    "### 遺失資料處理"
   ]
  },
  {
   "cell_type": "markdown",
   "metadata": {},
   "source": [
    "列出CustomerID沒有資料的紀錄"
   ]
  },
  {
   "cell_type": "code",
   "execution_count": null,
   "metadata": {},
   "outputs": [],
   "source": [
    "df[pd.isna(df.CustomerID)]"
   ]
  },
  {
   "cell_type": "markdown",
   "metadata": {},
   "source": [
    "去除CustomerID沒有資料的紀錄"
   ]
  },
  {
   "cell_type": "code",
   "execution_count": 3,
   "metadata": {},
   "outputs": [],
   "source": [
    "df = df.dropna(subset=['CustomerID'])"
   ]
  },
  {
   "cell_type": "markdown",
   "metadata": {},
   "source": [
    "確認是否去除成功"
   ]
  },
  {
   "cell_type": "code",
   "execution_count": null,
   "metadata": {},
   "outputs": [],
   "source": [
    "df[pd.isna(df.CustomerID)]"
   ]
  },
  {
   "cell_type": "markdown",
   "metadata": {},
   "source": [
    "### 多餘資料處理"
   ]
  },
  {
   "cell_type": "markdown",
   "metadata": {},
   "source": [
    "為了處理時間資料，載入datetime套件"
   ]
  },
  {
   "cell_type": "code",
   "execution_count": 4,
   "metadata": {},
   "outputs": [],
   "source": [
    "from datetime import datetime"
   ]
  },
  {
   "cell_type": "markdown",
   "metadata": {},
   "source": [
    "查看發票日期(InvoiceDate)"
   ]
  },
  {
   "cell_type": "code",
   "execution_count": null,
   "metadata": {},
   "outputs": [],
   "source": [
    "print('最後日期', max(df.InvoiceDate), '最前日期', min(df.InvoiceDate))\n"
   ]
  },
  {
   "cell_type": "markdown",
   "metadata": {},
   "source": [
    "發票日期在2010-12-01到2011-12-09間，稍微超過一年，為了方便計算起見，取2010-12-09到2011-12-09之間的資料"
   ]
  },
  {
   "cell_type": "code",
   "execution_count": 5,
   "metadata": {},
   "outputs": [],
   "source": [
    "df = df[df.InvoiceDate>=datetime(2010, 12, 9, 0, 0, 0)]"
   ]
  },
  {
   "cell_type": "markdown",
   "metadata": {},
   "source": [
    "### 特殊資料處理"
   ]
  },
  {
   "cell_type": "markdown",
   "metadata": {},
   "source": [
    "查看數量(Quantity)為負或0的情形\n"
   ]
  },
  {
   "cell_type": "code",
   "execution_count": null,
   "metadata": {},
   "outputs": [],
   "source": [
    "df[df.Quantity<=0]"
   ]
  },
  {
   "cell_type": "markdown",
   "metadata": {},
   "source": [
    "當Quantity<=0時，該筆交易為取消，InvoiceNo的首字為C"
   ]
  },
  {
   "cell_type": "markdown",
   "metadata": {},
   "source": [
    "查看單價(UnitPrice)為負或0的情形"
   ]
  },
  {
   "cell_type": "code",
   "execution_count": null,
   "metadata": {},
   "outputs": [],
   "source": [
    "df[df.UnitPrice<=0]"
   ]
  },
  {
   "cell_type": "markdown",
   "metadata": {},
   "source": [
    "### 群組彙整分析"
   ]
  },
  {
   "cell_type": "markdown",
   "metadata": {},
   "source": [
    "統計各國的交易數(不同的發票號碼)"
   ]
  },
  {
   "cell_type": "code",
   "execution_count": 6,
   "metadata": {},
   "outputs": [
    {
     "data": {
      "text/plain": [
       "Country\n",
       "United Kingdom          19140\n",
       "Germany                   587\n",
       "France                    451\n",
       "EIRE                      310\n",
       "Belgium                   118\n",
       "Spain                     104\n",
       "Netherlands               100\n",
       "Switzerland                70\n",
       "Portugal                   67\n",
       "Australia                  67\n",
       "Italy                      53\n",
       "Finland                    48\n",
       "Sweden                     46\n",
       "Norway                     38\n",
       "Channel Islands            33\n",
       "Japan                      27\n",
       "Poland                     23\n",
       "Denmark                    21\n",
       "Cyprus                     20\n",
       "Austria                    19\n",
       "Singapore                  10\n",
       "Malta                      10\n",
       "Unspecified                 8\n",
       "USA                         7\n",
       "Greece                      6\n",
       "Iceland                     6\n",
       "Canada                      6\n",
       "Israel                      6\n",
       "European Community          5\n",
       "Czech Republic              5\n",
       "United Arab Emirates        3\n",
       "Saudi Arabia                2\n",
       "Bahrain                     2\n",
       "Lebanon                     1\n",
       "RSA                         1\n",
       "Brazil                      1\n",
       "Name: InvoiceNo, dtype: int64"
      ]
     },
     "execution_count": 6,
     "metadata": {},
     "output_type": "execute_result"
    }
   ],
   "source": [
    "df.groupby('Country')\\\n",
    ".InvoiceNo.nunique()\\\n",
    ".sort_values(ascending=False)"
   ]
  },
  {
   "cell_type": "markdown",
   "metadata": {},
   "source": [
    "統計各國上的顧客數(不同的顧客識別號)"
   ]
  },
  {
   "cell_type": "code",
   "execution_count": null,
   "metadata": {},
   "outputs": [],
   "source": [
    "df.groupby('Country')\\\n",
    ".CustomerID.nunique()\\\n",
    ".sort_values(ascending=False)"
   ]
  },
  {
   "cell_type": "markdown",
   "metadata": {},
   "source": [
    "以英國(United Kingdom)為此線上商店的主要銷售國家，其餘的重要國家也大都在歐洲"
   ]
  },
  {
   "cell_type": "markdown",
   "metadata": {},
   "source": [
    "### 排序分析"
   ]
  },
  {
   "cell_type": "markdown",
   "metadata": {},
   "source": [
    "查看主要顧客的購買次數與金額(不包含取消)(附註：此為RFM模式中的購買頻率'Frequency'和購買金額'Monetary')"
   ]
  },
  {
   "cell_type": "code",
   "execution_count": 6,
   "metadata": {},
   "outputs": [],
   "source": [
    "'''\n",
    "購買紀錄\n",
    "'''\n",
    "df_purchase = df[df.Quantity>0]"
   ]
  },
  {
   "cell_type": "code",
   "execution_count": null,
   "metadata": {},
   "outputs": [],
   "source": [
    "df_purchase.groupby('CustomerID') \\\n",
    ".InvoiceNo.nunique() \\\n",
    ".reset_index() \\\n",
    ".sort_values('InvoiceNo', ascending=False)[:20]"
   ]
  },
  {
   "cell_type": "code",
   "execution_count": null,
   "metadata": {},
   "outputs": [],
   "source": [
    "df_purchase.assign(Total = df_purchase.UnitPrice*df_purchase.Quantity) \\\n",
    ".groupby('CustomerID')\\\n",
    ".Total.sum()\\\n",
    ".reset_index()\\\n",
    ".sort_values('Total', ascending=False)[:20]"
   ]
  },
  {
   "cell_type": "markdown",
   "metadata": {},
   "source": [
    "查看主要顧客的取消次數與金額"
   ]
  },
  {
   "cell_type": "code",
   "execution_count": 7,
   "metadata": {},
   "outputs": [],
   "source": [
    "'''\n",
    "取消紀錄\n",
    "'''\n",
    "df_cancel = df[df.Quantity<0]"
   ]
  },
  {
   "cell_type": "code",
   "execution_count": null,
   "metadata": {},
   "outputs": [],
   "source": [
    "'''\n",
    "主要顧客的取消次數\n",
    "'''\n",
    "df_cancel.groupby('CustomerID')\\\n",
    ".InvoiceNo.nunique() \\\n",
    ".reset_index()\\\n",
    ".sort_values('InvoiceNo', ascending=False)[:20]"
   ]
  },
  {
   "cell_type": "code",
   "execution_count": 8,
   "metadata": {},
   "outputs": [
    {
     "data": {
      "text/html": [
       "<div>\n",
       "<style scoped>\n",
       "    .dataframe tbody tr th:only-of-type {\n",
       "        vertical-align: middle;\n",
       "    }\n",
       "\n",
       "    .dataframe tbody tr th {\n",
       "        vertical-align: top;\n",
       "    }\n",
       "\n",
       "    .dataframe thead th {\n",
       "        text-align: right;\n",
       "    }\n",
       "</style>\n",
       "<table border=\"1\" class=\"dataframe\">\n",
       "  <thead>\n",
       "    <tr style=\"text-align: right;\">\n",
       "      <th></th>\n",
       "      <th>CustomerID</th>\n",
       "      <th>Total</th>\n",
       "    </tr>\n",
       "  </thead>\n",
       "  <tbody>\n",
       "    <tr>\n",
       "      <th>1113</th>\n",
       "      <td>16446.0</td>\n",
       "      <td>-168469.60</td>\n",
       "    </tr>\n",
       "    <tr>\n",
       "      <th>0</th>\n",
       "      <td>12346.0</td>\n",
       "      <td>-77183.60</td>\n",
       "    </tr>\n",
       "    <tr>\n",
       "      <th>763</th>\n",
       "      <td>15098.0</td>\n",
       "      <td>-39267.00</td>\n",
       "    </tr>\n",
       "    <tr>\n",
       "      <th>1018</th>\n",
       "      <td>16029.0</td>\n",
       "      <td>-30032.23</td>\n",
       "    </tr>\n",
       "    <tr>\n",
       "      <th>947</th>\n",
       "      <td>15749.0</td>\n",
       "      <td>-22998.40</td>\n",
       "    </tr>\n",
       "    <tr>\n",
       "      <th>135</th>\n",
       "      <td>12744.0</td>\n",
       "      <td>-12158.90</td>\n",
       "    </tr>\n",
       "    <tr>\n",
       "      <th>720</th>\n",
       "      <td>14911.0</td>\n",
       "      <td>-11252.44</td>\n",
       "    </tr>\n",
       "    <tr>\n",
       "      <th>183</th>\n",
       "      <td>12931.0</td>\n",
       "      <td>-8593.15</td>\n",
       "    </tr>\n",
       "    <tr>\n",
       "      <th>60</th>\n",
       "      <td>12536.0</td>\n",
       "      <td>-8495.01</td>\n",
       "    </tr>\n",
       "    <tr>\n",
       "      <th>490</th>\n",
       "      <td>14096.0</td>\n",
       "      <td>-8043.88</td>\n",
       "    </tr>\n",
       "    <tr>\n",
       "      <th>1357</th>\n",
       "      <td>17450.0</td>\n",
       "      <td>-7068.62</td>\n",
       "    </tr>\n",
       "    <tr>\n",
       "      <th>1475</th>\n",
       "      <td>17949.0</td>\n",
       "      <td>-5759.64</td>\n",
       "    </tr>\n",
       "    <tr>\n",
       "      <th>642</th>\n",
       "      <td>14607.0</td>\n",
       "      <td>-5228.40</td>\n",
       "    </tr>\n",
       "    <tr>\n",
       "      <th>136</th>\n",
       "      <td>12748.0</td>\n",
       "      <td>-4639.68</td>\n",
       "    </tr>\n",
       "    <tr>\n",
       "      <th>869</th>\n",
       "      <td>15482.0</td>\n",
       "      <td>-4486.24</td>\n",
       "    </tr>\n",
       "    <tr>\n",
       "      <th>876</th>\n",
       "      <td>15502.0</td>\n",
       "      <td>-4458.07</td>\n",
       "    </tr>\n",
       "    <tr>\n",
       "      <th>955</th>\n",
       "      <td>15769.0</td>\n",
       "      <td>-4429.00</td>\n",
       "    </tr>\n",
       "    <tr>\n",
       "      <th>1355</th>\n",
       "      <td>17448.0</td>\n",
       "      <td>-4287.63</td>\n",
       "    </tr>\n",
       "    <tr>\n",
       "      <th>513</th>\n",
       "      <td>14156.0</td>\n",
       "      <td>-3987.99</td>\n",
       "    </tr>\n",
       "    <tr>\n",
       "      <th>1012</th>\n",
       "      <td>16013.0</td>\n",
       "      <td>-3764.35</td>\n",
       "    </tr>\n",
       "  </tbody>\n",
       "</table>\n",
       "</div>"
      ],
      "text/plain": [
       "      CustomerID      Total\n",
       "1113     16446.0 -168469.60\n",
       "0        12346.0  -77183.60\n",
       "763      15098.0  -39267.00\n",
       "1018     16029.0  -30032.23\n",
       "947      15749.0  -22998.40\n",
       "135      12744.0  -12158.90\n",
       "720      14911.0  -11252.44\n",
       "183      12931.0   -8593.15\n",
       "60       12536.0   -8495.01\n",
       "490      14096.0   -8043.88\n",
       "1357     17450.0   -7068.62\n",
       "1475     17949.0   -5759.64\n",
       "642      14607.0   -5228.40\n",
       "136      12748.0   -4639.68\n",
       "869      15482.0   -4486.24\n",
       "876      15502.0   -4458.07\n",
       "955      15769.0   -4429.00\n",
       "1355     17448.0   -4287.63\n",
       "513      14156.0   -3987.99\n",
       "1012     16013.0   -3764.35"
      ]
     },
     "execution_count": 8,
     "metadata": {},
     "output_type": "execute_result"
    }
   ],
   "source": [
    "'''\n",
    "主要顧客的取消金額\n",
    "'''\n",
    "major_canceller = \\\n",
    "df_cancel.assign(Total = df_cancel.UnitPrice*df_cancel.Quantity) \\\n",
    ".groupby('CustomerID')\\\n",
    ".Total.sum()\\\n",
    ".reset_index()\\\n",
    ".sort_values('Total',ascending=True)[:20]\n",
    "\n",
    "major_canceller"
   ]
  },
  {
   "cell_type": "markdown",
   "metadata": {},
   "source": [
    "取消金額較大的顧客的購買金額"
   ]
  },
  {
   "cell_type": "code",
   "execution_count": 9,
   "metadata": {},
   "outputs": [],
   "source": [
    "'''\n",
    "取消金額較大的顧客編號\n",
    "'''\n",
    "mc_list = [value for index, value in enumerate(major_canceller.CustomerID.tolist())]"
   ]
  },
  {
   "cell_type": "code",
   "execution_count": 10,
   "metadata": {},
   "outputs": [],
   "source": [
    "'''\n",
    "取消金額較大顧客的購買紀錄\n",
    "'''\n",
    "df_mc_purchase = df_purchase.loc[df_purchase.CustomerID.isin(mc_list)]"
   ]
  },
  {
   "cell_type": "code",
   "execution_count": 11,
   "metadata": {},
   "outputs": [],
   "source": [
    "'''\n",
    "取消金額較大顧客的購買金額\n",
    "'''\n",
    "major_canceller_purchase = \\\n",
    "df_mc_purchase.assign(Purchase_Total = df_mc_purchase.UnitPrice*df_mc_purchase.Quantity) \\\n",
    ".groupby('CustomerID')\\\n",
    ".Purchase_Total.sum() \\\n",
    ".reset_index() \\\n",
    ".sort_values('Purchase_Total',ascending=False)"
   ]
  },
  {
   "cell_type": "code",
   "execution_count": 12,
   "metadata": {},
   "outputs": [
    {
     "data": {
      "text/html": [
       "<div>\n",
       "<style scoped>\n",
       "    .dataframe tbody tr th:only-of-type {\n",
       "        vertical-align: middle;\n",
       "    }\n",
       "\n",
       "    .dataframe tbody tr th {\n",
       "        vertical-align: top;\n",
       "    }\n",
       "\n",
       "    .dataframe thead th {\n",
       "        text-align: right;\n",
       "    }\n",
       "</style>\n",
       "<table border=\"1\" class=\"dataframe\">\n",
       "  <thead>\n",
       "    <tr style=\"text-align: right;\">\n",
       "      <th></th>\n",
       "      <th>CustomerID</th>\n",
       "      <th>Cancel_Total</th>\n",
       "      <th>Purchase_Total</th>\n",
       "      <th>Total</th>\n",
       "    </tr>\n",
       "  </thead>\n",
       "  <tbody>\n",
       "    <tr>\n",
       "      <th>0</th>\n",
       "      <td>16446.0</td>\n",
       "      <td>-168469.60</td>\n",
       "      <td>168472.50</td>\n",
       "      <td>2.90</td>\n",
       "    </tr>\n",
       "    <tr>\n",
       "      <th>1</th>\n",
       "      <td>12346.0</td>\n",
       "      <td>-77183.60</td>\n",
       "      <td>77183.60</td>\n",
       "      <td>0.00</td>\n",
       "    </tr>\n",
       "    <tr>\n",
       "      <th>2</th>\n",
       "      <td>15098.0</td>\n",
       "      <td>-39267.00</td>\n",
       "      <td>39916.50</td>\n",
       "      <td>649.50</td>\n",
       "    </tr>\n",
       "    <tr>\n",
       "      <th>3</th>\n",
       "      <td>16029.0</td>\n",
       "      <td>-30032.23</td>\n",
       "      <td>76753.32</td>\n",
       "      <td>46721.09</td>\n",
       "    </tr>\n",
       "    <tr>\n",
       "      <th>4</th>\n",
       "      <td>15749.0</td>\n",
       "      <td>-22998.40</td>\n",
       "      <td>44534.30</td>\n",
       "      <td>21535.90</td>\n",
       "    </tr>\n",
       "    <tr>\n",
       "      <th>5</th>\n",
       "      <td>12744.0</td>\n",
       "      <td>-12158.90</td>\n",
       "      <td>21279.29</td>\n",
       "      <td>9120.39</td>\n",
       "    </tr>\n",
       "    <tr>\n",
       "      <th>6</th>\n",
       "      <td>14911.0</td>\n",
       "      <td>-11252.44</td>\n",
       "      <td>140359.03</td>\n",
       "      <td>129106.59</td>\n",
       "    </tr>\n",
       "    <tr>\n",
       "      <th>7</th>\n",
       "      <td>12931.0</td>\n",
       "      <td>-8593.15</td>\n",
       "      <td>42055.96</td>\n",
       "      <td>33462.81</td>\n",
       "    </tr>\n",
       "    <tr>\n",
       "      <th>8</th>\n",
       "      <td>12536.0</td>\n",
       "      <td>-8495.01</td>\n",
       "      <td>12601.83</td>\n",
       "      <td>4106.82</td>\n",
       "    </tr>\n",
       "    <tr>\n",
       "      <th>9</th>\n",
       "      <td>14096.0</td>\n",
       "      <td>-8043.88</td>\n",
       "      <td>65164.79</td>\n",
       "      <td>57120.91</td>\n",
       "    </tr>\n",
       "    <tr>\n",
       "      <th>10</th>\n",
       "      <td>17450.0</td>\n",
       "      <td>-7068.62</td>\n",
       "      <td>192521.95</td>\n",
       "      <td>185453.33</td>\n",
       "    </tr>\n",
       "    <tr>\n",
       "      <th>11</th>\n",
       "      <td>17949.0</td>\n",
       "      <td>-5759.64</td>\n",
       "      <td>57196.48</td>\n",
       "      <td>51436.84</td>\n",
       "    </tr>\n",
       "    <tr>\n",
       "      <th>12</th>\n",
       "      <td>14607.0</td>\n",
       "      <td>-5228.40</td>\n",
       "      <td>16569.50</td>\n",
       "      <td>11341.10</td>\n",
       "    </tr>\n",
       "    <tr>\n",
       "      <th>13</th>\n",
       "      <td>12748.0</td>\n",
       "      <td>-4639.68</td>\n",
       "      <td>31854.58</td>\n",
       "      <td>27214.90</td>\n",
       "    </tr>\n",
       "    <tr>\n",
       "      <th>14</th>\n",
       "      <td>15482.0</td>\n",
       "      <td>-4486.24</td>\n",
       "      <td>11054.96</td>\n",
       "      <td>6568.72</td>\n",
       "    </tr>\n",
       "    <tr>\n",
       "      <th>15</th>\n",
       "      <td>15502.0</td>\n",
       "      <td>-4458.07</td>\n",
       "      <td>9455.53</td>\n",
       "      <td>4997.46</td>\n",
       "    </tr>\n",
       "    <tr>\n",
       "      <th>16</th>\n",
       "      <td>15769.0</td>\n",
       "      <td>-4429.00</td>\n",
       "      <td>56160.92</td>\n",
       "      <td>51731.92</td>\n",
       "    </tr>\n",
       "    <tr>\n",
       "      <th>17</th>\n",
       "      <td>14156.0</td>\n",
       "      <td>-3987.99</td>\n",
       "      <td>117057.43</td>\n",
       "      <td>113069.44</td>\n",
       "    </tr>\n",
       "    <tr>\n",
       "      <th>18</th>\n",
       "      <td>16013.0</td>\n",
       "      <td>-3764.35</td>\n",
       "      <td>36068.60</td>\n",
       "      <td>32304.25</td>\n",
       "    </tr>\n",
       "  </tbody>\n",
       "</table>\n",
       "</div>"
      ],
      "text/plain": [
       "    CustomerID  Cancel_Total  Purchase_Total      Total\n",
       "0      16446.0    -168469.60       168472.50       2.90\n",
       "1      12346.0     -77183.60        77183.60       0.00\n",
       "2      15098.0     -39267.00        39916.50     649.50\n",
       "3      16029.0     -30032.23        76753.32   46721.09\n",
       "4      15749.0     -22998.40        44534.30   21535.90\n",
       "5      12744.0     -12158.90        21279.29    9120.39\n",
       "6      14911.0     -11252.44       140359.03  129106.59\n",
       "7      12931.0      -8593.15        42055.96   33462.81\n",
       "8      12536.0      -8495.01        12601.83    4106.82\n",
       "9      14096.0      -8043.88        65164.79   57120.91\n",
       "10     17450.0      -7068.62       192521.95  185453.33\n",
       "11     17949.0      -5759.64        57196.48   51436.84\n",
       "12     14607.0      -5228.40        16569.50   11341.10\n",
       "13     12748.0      -4639.68        31854.58   27214.90\n",
       "14     15482.0      -4486.24        11054.96    6568.72\n",
       "15     15502.0      -4458.07         9455.53    4997.46\n",
       "16     15769.0      -4429.00        56160.92   51731.92\n",
       "17     14156.0      -3987.99       117057.43  113069.44\n",
       "18     16013.0      -3764.35        36068.60   32304.25"
      ]
     },
     "execution_count": 12,
     "metadata": {},
     "output_type": "execute_result"
    }
   ],
   "source": [
    "'''\n",
    "取消金額較大顧客的取消金額與購買金額\n",
    "'''\n",
    "major_canceller.rename(columns={\"Total\": \"Cancel_Total\"}) \\\n",
    ".merge(major_canceller_purchase, how='inner', on=['CustomerID']) \\\n",
    ".assign(Total=lambda x: x.Cancel_Total+x.Purchase_Total)"
   ]
  },
  {
   "cell_type": "markdown",
   "metadata": {},
   "source": [
    "每天的購買筆數"
   ]
  },
  {
   "cell_type": "code",
   "execution_count": 13,
   "metadata": {},
   "outputs": [
    {
     "data": {
      "text/html": [
       "<div>\n",
       "<style scoped>\n",
       "    .dataframe tbody tr th:only-of-type {\n",
       "        vertical-align: middle;\n",
       "    }\n",
       "\n",
       "    .dataframe tbody tr th {\n",
       "        vertical-align: top;\n",
       "    }\n",
       "\n",
       "    .dataframe thead th {\n",
       "        text-align: right;\n",
       "    }\n",
       "</style>\n",
       "<table border=\"1\" class=\"dataframe\">\n",
       "  <thead>\n",
       "    <tr style=\"text-align: right;\">\n",
       "      <th></th>\n",
       "      <th>PurchaseDate</th>\n",
       "      <th>InvoiceNo</th>\n",
       "    </tr>\n",
       "  </thead>\n",
       "  <tbody>\n",
       "    <tr>\n",
       "      <th>0</th>\n",
       "      <td>2010-12-09</td>\n",
       "      <td>98</td>\n",
       "    </tr>\n",
       "    <tr>\n",
       "      <th>1</th>\n",
       "      <td>2010-12-10</td>\n",
       "      <td>72</td>\n",
       "    </tr>\n",
       "    <tr>\n",
       "      <th>2</th>\n",
       "      <td>2010-12-12</td>\n",
       "      <td>43</td>\n",
       "    </tr>\n",
       "    <tr>\n",
       "      <th>3</th>\n",
       "      <td>2010-12-13</td>\n",
       "      <td>64</td>\n",
       "    </tr>\n",
       "    <tr>\n",
       "      <th>4</th>\n",
       "      <td>2010-12-14</td>\n",
       "      <td>81</td>\n",
       "    </tr>\n",
       "    <tr>\n",
       "      <th>...</th>\n",
       "      <td>...</td>\n",
       "      <td>...</td>\n",
       "    </tr>\n",
       "    <tr>\n",
       "      <th>293</th>\n",
       "      <td>2011-12-05</td>\n",
       "      <td>116</td>\n",
       "    </tr>\n",
       "    <tr>\n",
       "      <th>294</th>\n",
       "      <td>2011-12-06</td>\n",
       "      <td>110</td>\n",
       "    </tr>\n",
       "    <tr>\n",
       "      <th>295</th>\n",
       "      <td>2011-12-07</td>\n",
       "      <td>104</td>\n",
       "    </tr>\n",
       "    <tr>\n",
       "      <th>296</th>\n",
       "      <td>2011-12-08</td>\n",
       "      <td>113</td>\n",
       "    </tr>\n",
       "    <tr>\n",
       "      <th>297</th>\n",
       "      <td>2011-12-09</td>\n",
       "      <td>41</td>\n",
       "    </tr>\n",
       "  </tbody>\n",
       "</table>\n",
       "<p>298 rows × 2 columns</p>\n",
       "</div>"
      ],
      "text/plain": [
       "    PurchaseDate  InvoiceNo\n",
       "0     2010-12-09         98\n",
       "1     2010-12-10         72\n",
       "2     2010-12-12         43\n",
       "3     2010-12-13         64\n",
       "4     2010-12-14         81\n",
       "..           ...        ...\n",
       "293   2011-12-05        116\n",
       "294   2011-12-06        110\n",
       "295   2011-12-07        104\n",
       "296   2011-12-08        113\n",
       "297   2011-12-09         41\n",
       "\n",
       "[298 rows x 2 columns]"
      ]
     },
     "execution_count": 13,
     "metadata": {},
     "output_type": "execute_result"
    }
   ],
   "source": [
    "df_purchase.assign(PurchaseDate=df_purchase.InvoiceDate.apply(lambda x: x.date()))\\\n",
    ".groupby('PurchaseDate')\\\n",
    ".InvoiceNo.nunique() \\\n",
    ".reset_index() \\\n",
    ".sort_values('PurchaseDate', ascending=True)"
   ]
  },
  {
   "cell_type": "markdown",
   "metadata": {},
   "source": [
    "每天的購買金額"
   ]
  },
  {
   "cell_type": "code",
   "execution_count": 14,
   "metadata": {},
   "outputs": [
    {
     "data": {
      "text/html": [
       "<div>\n",
       "<style scoped>\n",
       "    .dataframe tbody tr th:only-of-type {\n",
       "        vertical-align: middle;\n",
       "    }\n",
       "\n",
       "    .dataframe tbody tr th {\n",
       "        vertical-align: top;\n",
       "    }\n",
       "\n",
       "    .dataframe thead th {\n",
       "        text-align: right;\n",
       "    }\n",
       "</style>\n",
       "<table border=\"1\" class=\"dataframe\">\n",
       "  <thead>\n",
       "    <tr style=\"text-align: right;\">\n",
       "      <th></th>\n",
       "      <th>PurchaseDate</th>\n",
       "      <th>PurchaseTotal</th>\n",
       "    </tr>\n",
       "  </thead>\n",
       "  <tbody>\n",
       "    <tr>\n",
       "      <th>0</th>\n",
       "      <td>2010-12-09</td>\n",
       "      <td>38231.90</td>\n",
       "    </tr>\n",
       "    <tr>\n",
       "      <th>1</th>\n",
       "      <td>2010-12-10</td>\n",
       "      <td>33650.28</td>\n",
       "    </tr>\n",
       "    <tr>\n",
       "      <th>2</th>\n",
       "      <td>2010-12-12</td>\n",
       "      <td>17305.77</td>\n",
       "    </tr>\n",
       "    <tr>\n",
       "      <th>3</th>\n",
       "      <td>2010-12-13</td>\n",
       "      <td>27642.68</td>\n",
       "    </tr>\n",
       "    <tr>\n",
       "      <th>4</th>\n",
       "      <td>2010-12-14</td>\n",
       "      <td>29322.30</td>\n",
       "    </tr>\n",
       "    <tr>\n",
       "      <th>...</th>\n",
       "      <td>...</td>\n",
       "      <td>...</td>\n",
       "    </tr>\n",
       "    <tr>\n",
       "      <th>293</th>\n",
       "      <td>2011-12-05</td>\n",
       "      <td>58202.21</td>\n",
       "    </tr>\n",
       "    <tr>\n",
       "      <th>294</th>\n",
       "      <td>2011-12-06</td>\n",
       "      <td>46144.04</td>\n",
       "    </tr>\n",
       "    <tr>\n",
       "      <th>295</th>\n",
       "      <td>2011-12-07</td>\n",
       "      <td>69354.21</td>\n",
       "    </tr>\n",
       "    <tr>\n",
       "      <th>296</th>\n",
       "      <td>2011-12-08</td>\n",
       "      <td>50519.41</td>\n",
       "    </tr>\n",
       "    <tr>\n",
       "      <th>297</th>\n",
       "      <td>2011-12-09</td>\n",
       "      <td>184349.28</td>\n",
       "    </tr>\n",
       "  </tbody>\n",
       "</table>\n",
       "<p>298 rows × 2 columns</p>\n",
       "</div>"
      ],
      "text/plain": [
       "    PurchaseDate  PurchaseTotal\n",
       "0     2010-12-09       38231.90\n",
       "1     2010-12-10       33650.28\n",
       "2     2010-12-12       17305.77\n",
       "3     2010-12-13       27642.68\n",
       "4     2010-12-14       29322.30\n",
       "..           ...            ...\n",
       "293   2011-12-05       58202.21\n",
       "294   2011-12-06       46144.04\n",
       "295   2011-12-07       69354.21\n",
       "296   2011-12-08       50519.41\n",
       "297   2011-12-09      184349.28\n",
       "\n",
       "[298 rows x 2 columns]"
      ]
     },
     "execution_count": 14,
     "metadata": {},
     "output_type": "execute_result"
    }
   ],
   "source": [
    "purchase_date = df_purchase.assign(PurchaseDate=df_purchase.InvoiceDate.apply(lambda x: x.date()))\\\n",
    ".assign(PurchaseTotal=df_purchase.UnitPrice*df_purchase.Quantity)\\\n",
    ".groupby('PurchaseDate')\\\n",
    ".PurchaseTotal.sum() \\\n",
    ".reset_index() \\\n",
    ".sort_values('PurchaseDate', ascending=True)\n",
    "\n",
    "purchase_date"
   ]
  },
  {
   "cell_type": "markdown",
   "metadata": {},
   "source": [
    "### 將運算結果繪成圖形"
   ]
  },
  {
   "cell_type": "code",
   "execution_count": 17,
   "metadata": {},
   "outputs": [],
   "source": [
    "pur = pd.date_range('2010-12-09', '2011-12-09')\\\n",
    ".to_frame(index=False)\\\n",
    ".rename(columns={0:'PurchaseDate'})\n",
    "\n",
    "pur = pur.assign(PurchaseDate=pur.PurchaseDate.apply(lambda x: x.date()))"
   ]
  },
  {
   "cell_type": "code",
   "execution_count": 18,
   "metadata": {},
   "outputs": [],
   "source": [
    "pur = pur.merge(purchase_date, how='left', on=['PurchaseDate'])"
   ]
  },
  {
   "cell_type": "code",
   "execution_count": 19,
   "metadata": {},
   "outputs": [],
   "source": [
    "pur.loc[pd.isna(pur.PurchaseTotal), 'PurchaseTotal'] = 0"
   ]
  },
  {
   "cell_type": "markdown",
   "metadata": {},
   "source": [
    "將每天的購買金額畫成線圖"
   ]
  },
  {
   "cell_type": "code",
   "execution_count": 48,
   "metadata": {},
   "outputs": [],
   "source": [
    "'''\n",
    "載入繪圖套件\n",
    "'''\n",
    "import matplotlib.pyplot as plt\n",
    "\n",
    "import matplotlib.dates as mdates\n",
    "\n",
    "import seaborn as sns"
   ]
  },
  {
   "cell_type": "code",
   "execution_count": 21,
   "metadata": {},
   "outputs": [],
   "source": [
    "'''\n",
    "顯示繪圖結果\n",
    "'''\n",
    "%matplotlib inline"
   ]
  },
  {
   "cell_type": "code",
   "execution_count": 61,
   "metadata": {},
   "outputs": [],
   "source": [
    "'''\n",
    "圖形中有中文字型的問題\n",
    "參考https://medium.com/marketingdatascience/%E8%A7%A3%E6%B1%BApython-3-matplotlib%E8%88%87seaborn%E8%A6%96%E8%A6%BA%E5%8C%96%E5%A5%97%E4%BB%B6%E4%B8%AD%E6%96%87%E9%A1%AF%E7%A4%BA%E5%95%8F%E9%A1%8C-f7b3773a889b\n",
    "'''\n",
    "plt.rcParams['font.sans-serif'] = ['Microsoft JhengHei'] \n",
    "plt.rcParams['axes.unicode_minus'] = False"
   ]
  },
  {
   "cell_type": "code",
   "execution_count": null,
   "metadata": {},
   "outputs": [],
   "source": [
    "pd.plotting.register_matplotlib_converters() #轉換器函式庫位置"
   ]
  },
  {
   "cell_type": "code",
   "execution_count": 62,
   "metadata": {},
   "outputs": [
    {
     "data": {
      "text/plain": [
       "Text(0.5, 0, '購買日期')"
      ]
     },
     "execution_count": 62,
     "metadata": {},
     "output_type": "execute_result"
    },
    {
     "data": {
      "image/png": "[encoded data removed]",
      "text/plain": [
       "<Figure size 1440x648 with 1 Axes>"
      ]
     },
     "metadata": {
      "needs_background": "light"
     },
     "output_type": "display_data"
    }
   ],
   "source": [
    "months = mdates.MonthLocator()  # every month\n",
    "\n",
    "fig, ax = plt.subplots(figsize=(20,9))\n",
    "chart = sns.lineplot(data=pur, x='PurchaseDate',y='PurchaseTotal')\n",
    "ax.xaxis.set_major_locator(months)\n",
    "fig.autofmt_xdate()\n",
    "ax.set_xlabel('購買日期')\n",
    "ax.set_ylabel('購買金額')"
   ]
  },
  {
   "cell_type": "markdown",
   "metadata": {},
   "source": [
    "挑選2月到五月之間的日期，查看購買金額總數是否有周期變化？"
   ]
  },
  {
   "cell_type": "code",
   "execution_count": null,
   "metadata": {},
   "outputs": [],
   "source": [
    "from datetime import date"
   ]
  },
  {
   "cell_type": "code",
   "execution_count": 89,
   "metadata": {},
   "outputs": [
    {
     "data": {
      "image/png": "[encoded data removed]",
      "text/plain": [
       "<Figure size 1440x648 with 1 Axes>"
      ]
     },
     "metadata": {
      "needs_background": "light"
     },
     "output_type": "display_data"
    }
   ],
   "source": [
    "months = mdates.MonthLocator()  # every month\n",
    "weeks = mdates.WeekdayLocator() # every week\n",
    "\n",
    "fig, ax = plt.subplots(figsize=(20,9))\n",
    "chart = sns.lineplot(data=pur.loc[pur.PurchaseDate.apply(lambda x: x>=date(2011, 2, 1) and x<=date(2011, 5, 31))], x='PurchaseDate',y='PurchaseTotal')\n",
    "\n",
    "ax.xaxis.set_major_locator(months)\n",
    "ax.xaxis.set_minor_locator(weeks)\n",
    "\n",
    "ax.xaxis.grid(True, which='minor')\n",
    "\n",
    "ax.tick_params(which='both', width=2, length=7)\n"
   ]
  },
  {
   "cell_type": "code",
   "execution_count": 78,
   "metadata": {},
   "outputs": [
    {
     "data": {
      "text/plain": [
       "0      False\n",
       "1      False\n",
       "2      False\n",
       "3      False\n",
       "4      False\n",
       "       ...  \n",
       "361    False\n",
       "362    False\n",
       "363    False\n",
       "364    False\n",
       "365    False\n",
       "Name: PurchaseDate, Length: 366, dtype: bool"
      ]
     },
     "execution_count": 78,
     "metadata": {},
     "output_type": "execute_result"
    }
   ],
   "source": []
  },
  {
   "cell_type": "markdown",
   "metadata": {},
   "source": [
    "探討一週間的哪一天的購買金額總數最高"
   ]
  },
  {
   "cell_type": "code",
   "execution_count": null,
   "metadata": {},
   "outputs": [],
   "source": []
  }
 ],
 "metadata": {
  "anaconda-cloud": {},
  "kernelspec": {
   "display_name": "Python 3",
   "language": "python",
   "name": "python3"
  },
  "language_info": {
   "codemirror_mode": {
    "name": "ipython",
    "version": 3
   },
   "file_extension": ".py",
   "mimetype": "text/x-python",
   "name": "python",
   "nbconvert_exporter": "python",
   "pygments_lexer": "ipython3",
   "version": "3.6.9"
  }
 },
 "nbformat": 4,
 "nbformat_minor": 2
}
