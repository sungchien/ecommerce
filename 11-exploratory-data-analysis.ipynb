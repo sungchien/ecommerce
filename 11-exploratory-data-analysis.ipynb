{
 "cells": [
  {
   "cell_type": "markdown",
   "metadata": {},
   "source": [
    "# 探索性資料分析"
   ]
  },
  {
   "cell_type": "markdown",
   "metadata": {},
   "source": [
    "探索性資料分析是指利用描述統計和圖形表示等方式對資料進行初步調查，目的是發現模式(patterns)，偵測異常(anomalies)以及檢驗假設(assumptions)。"
   ]
  },
  {
   "cell_type": "markdown",
   "metadata": {},
   "source": [
    "目前並沒有十分嚴格的探索性資料分析流程。但大部分的資料可以依據以下的步驟進行：\n",
    "\n",
    "1. 發現資料中每個Variable的型態與意義。找出或轉換了解問題所需的資料Variables。\n",
    "\n",
    "2. 資料中是否有錯誤，例如資料重複或輸入錯誤？發生在那些Variable上？如何處理這些錯誤？\n",
    "\n",
    "3. 資料中是否有遺漏值 (missing values)，發生在那些Variable上？如何處理這些遺漏值？\n",
    "\n",
    "4. 根據資料的分布範圍，哪些是與其他資料大不相同的異常值(outliers)？這些異常值要如何處理？\n",
    "\n",
    "5. 原始資料是否需要彙整？換句說，將以一筆資料**代表**一群相關的Observations。如何代表？\n",
    "\n",
    "6. Variables有無需要進行合併？如何進行合併？\n",
    "\n",
    "7. 形成問題的假設，從資料中發展出想要了解的問題。\n",
    "\n",
    "8. 有必要的話，重複上面的各個步驟。"
   ]
  },
  {
   "cell_type": "markdown",
   "metadata": {},
   "source": [
    "## 載入套件與讀取資料"
   ]
  },
  {
   "cell_type": "markdown",
   "metadata": {},
   "source": [
    "### 載入套件"
   ]
  },
  {
   "cell_type": "code",
   "execution_count": 1,
   "metadata": {},
   "outputs": [],
   "source": [
    "# 載入所需套件\n",
    "\n",
    "import pandas as pd\n",
    "from matplotlib import pyplot as plt\n",
    "import seaborn as sns\n",
    "import numpy as np"
   ]
  },
  {
   "cell_type": "markdown",
   "metadata": {},
   "source": [
    "### 讀取資料集"
   ]
  },
  {
   "cell_type": "markdown",
   "metadata": {},
   "source": [
    "此次分析的資料集是[線上零售資料集](https://archive.ics.uci.edu/ml/datasets/Online+Retail)。\n",
    "這個檔案是excel格式，可以利用pandas的read_excel讀取成為資料框(data frame)。"
   ]
  },
  {
   "cell_type": "code",
   "execution_count": 2,
   "metadata": {},
   "outputs": [],
   "source": [
    "# 讀入資料檔\n",
    "df = pd.read_excel('Online Retail.xlsx')"
   ]
  },
  {
   "cell_type": "markdown",
   "metadata": {},
   "source": [
    "### 查看資料集的資訊"
   ]
  },
  {
   "cell_type": "markdown",
   "metadata": {},
   "source": [
    "- 讀取的資料大小"
   ]
  },
  {
   "cell_type": "code",
   "execution_count": null,
   "metadata": {},
   "outputs": [],
   "source": [
    "df.shape"
   ]
  },
  {
   "cell_type": "markdown",
   "metadata": {},
   "source": [
    "541909列(rows，紀錄)，8行(columns，欄位)"
   ]
  },
  {
   "cell_type": "markdown",
   "metadata": {},
   "source": [
    "- 資料的欄位名稱"
   ]
  },
  {
   "cell_type": "code",
   "execution_count": null,
   "metadata": {},
   "outputs": [],
   "source": [
    "df.info()"
   ]
  },
  {
   "cell_type": "markdown",
   "metadata": {},
   "source": [
    "這是一個交易發票的檔案，包含發票編號(InvoiceNo)、貨品編號(StockCode)、描述(Description)、數量(Quantity)、發票日期(InvoiceDate)、單價(UnitPrice)、顧客識別號(CustomerID)、國別(Country)等變數欄位。\n",
    "其中，Quantity是整數資料型態，UnitPrice和CustomerID是浮點數，InvoiceDate是日期時間資料型態，其餘皆為文字。"
   ]
  },
  {
   "cell_type": "markdown",
   "metadata": {},
   "source": [
    "- 數值類型的欄位資料的統計描述情形"
   ]
  },
  {
   "cell_type": "code",
   "execution_count": null,
   "metadata": {},
   "outputs": [],
   "source": [
    "df.describe()"
   ]
  },
  {
   "cell_type": "markdown",
   "metadata": {},
   "source": [
    "- 日期時間資料的最大與最小值"
   ]
  },
  {
   "cell_type": "code",
   "execution_count": null,
   "metadata": {},
   "outputs": [],
   "source": [
    "print('最後日期', df.InvoiceDate.max(), '最前日期', df.InvoiceDate.min())\n"
   ]
  },
  {
   "cell_type": "markdown",
   "metadata": {},
   "source": [
    "發票紀錄的時間超過1年"
   ]
  },
  {
   "cell_type": "markdown",
   "metadata": {},
   "source": [
    "### 資料的內容"
   ]
  },
  {
   "cell_type": "markdown",
   "metadata": {},
   "source": [
    "前五筆資料"
   ]
  },
  {
   "cell_type": "code",
   "execution_count": null,
   "metadata": {},
   "outputs": [],
   "source": [
    "df.head()"
   ]
  },
  {
   "cell_type": "markdown",
   "metadata": {},
   "source": [
    "後五筆資料"
   ]
  },
  {
   "cell_type": "code",
   "execution_count": null,
   "metadata": {},
   "outputs": [],
   "source": [
    "df.tail()"
   ]
  },
  {
   "cell_type": "markdown",
   "metadata": {},
   "source": [
    "## 處理資料集內遺失、多餘以及可疑的資料"
   ]
  },
  {
   "cell_type": "markdown",
   "metadata": {},
   "source": [
    "### 遺失資料處理"
   ]
  },
  {
   "cell_type": "markdown",
   "metadata": {},
   "source": [
    "從df.info()的結果可以發現CustomerID缺乏相當多資料。\n",
    "因此，首先列出CustomerID沒有資料的紀錄觀察。"
   ]
  },
  {
   "cell_type": "code",
   "execution_count": null,
   "metadata": {},
   "outputs": [],
   "source": [
    "df[df.CustomerID.isnull()]"
   ]
  },
  {
   "cell_type": "markdown",
   "metadata": {},
   "source": [
    "去除CustomerID沒有資料的紀錄"
   ]
  },
  {
   "cell_type": "code",
   "execution_count": 3,
   "metadata": {},
   "outputs": [],
   "source": [
    "df = df.dropna(subset=['CustomerID'])"
   ]
  },
  {
   "cell_type": "markdown",
   "metadata": {},
   "source": [
    "確認是否去除成功"
   ]
  },
  {
   "cell_type": "code",
   "execution_count": null,
   "metadata": {},
   "outputs": [],
   "source": [
    "df[df.CustomerID.isnull()]"
   ]
  },
  {
   "cell_type": "markdown",
   "metadata": {},
   "source": [
    "### 多餘資料處理"
   ]
  },
  {
   "cell_type": "markdown",
   "metadata": {},
   "source": [
    "如前面的分析結果，發票日期在2010-12-01到2011-12-09間，稍微超過一年。\n",
    "為了方便計算起見，取2010-12-09到2011-12-09之間的資料。"
   ]
  },
  {
   "cell_type": "markdown",
   "metadata": {},
   "source": [
    "為了處理時間資料，載入datetime套件"
   ]
  },
  {
   "cell_type": "code",
   "execution_count": 4,
   "metadata": {},
   "outputs": [],
   "source": [
    "from datetime import date"
   ]
  },
  {
   "cell_type": "code",
   "execution_count": 5,
   "metadata": {},
   "outputs": [],
   "source": [
    "df = df.assign(PurchaseDate=df.InvoiceDate.apply(lambda x: x.date()))"
   ]
  },
  {
   "cell_type": "code",
   "execution_count": 6,
   "metadata": {},
   "outputs": [],
   "source": [
    "df = df[df.PurchaseDate>=date(2010, 12, 9)]"
   ]
  },
  {
   "cell_type": "code",
   "execution_count": 7,
   "metadata": {},
   "outputs": [],
   "source": [
    "df = df.assign(PurchaseHour=df.InvoiceDate.dt.hour)"
   ]
  },
  {
   "cell_type": "markdown",
   "metadata": {},
   "source": [
    "### 特殊資料處理"
   ]
  },
  {
   "cell_type": "markdown",
   "metadata": {},
   "source": [
    "查看數量(Quantity)為負或0的情形\n"
   ]
  },
  {
   "cell_type": "code",
   "execution_count": null,
   "metadata": {},
   "outputs": [],
   "source": [
    "df[df.Quantity<=0]"
   ]
  },
  {
   "cell_type": "markdown",
   "metadata": {},
   "source": [
    "當Quantity<=0時，該筆交易為取消，InvoiceNo的首字為C"
   ]
  },
  {
   "cell_type": "code",
   "execution_count": 8,
   "metadata": {},
   "outputs": [],
   "source": [
    "#取出購買紀錄(不包含取消紀錄)\n",
    "df_purchase = df[df.Quantity>0] \n",
    "# 計算該筆紀錄的購買總價\n",
    "df_purchase = df_purchase.assign(Total = df_purchase.UnitPrice*df_purchase.Quantity)"
   ]
  },
  {
   "cell_type": "markdown",
   "metadata": {},
   "source": [
    "查看單價(UnitPrice)為負或0的情形"
   ]
  },
  {
   "cell_type": "code",
   "execution_count": null,
   "metadata": {},
   "outputs": [],
   "source": [
    "df_purchase[df_purchase.UnitPrice<=0]"
   ]
  },
  {
   "cell_type": "markdown",
   "metadata": {},
   "source": [
    "## 資料群組彙整分析"
   ]
  },
  {
   "cell_type": "markdown",
   "metadata": {},
   "source": [
    "### 統計各國的購買交易數(不同的發票號碼)與顧客數(不同的顧客識別號)"
   ]
  },
  {
   "cell_type": "code",
   "execution_count": null,
   "metadata": {},
   "outputs": [],
   "source": [
    "'''\n",
    "以國家分組： groupby('Country')\n",
    "依據發票編號，計算不重複的次數： \"InvoiceNo\":\"nunique\"\n",
    "依據顧客編號，計算不重複的次數： \"CustomerID\":\"nunique\"\n",
    "根據發票編號數量，由大到小排列： sort_values(\"InvoiceNo\", ascending=False)\n",
    "'''\n",
    "df_purchase.groupby('Country').agg({\"InvoiceNo\":\"nunique\", \"CustomerID\":\"nunique\"}).reset_index()\\\n",
    ".sort_values(\"InvoiceNo\", ascending=False)"
   ]
  },
  {
   "cell_type": "markdown",
   "metadata": {},
   "source": [
    "以英國(United Kingdom)為此線上商店的主要銷售國家，其餘的重要國家也大都在歐洲"
   ]
  },
  {
   "cell_type": "markdown",
   "metadata": {},
   "source": [
    "### 查看顧客的購買次數與金額"
   ]
  },
  {
   "cell_type": "markdown",
   "metadata": {},
   "source": [
    "查看顧客的購買次數與金額(附註：此為RFM模式中的購買頻率'Frequency'和購買金額'Monetary')"
   ]
  },
  {
   "cell_type": "code",
   "execution_count": null,
   "metadata": {},
   "outputs": [],
   "source": [
    "# 顧客的購買次數與金額(每一次購買紀錄為同一個發票編號)\n",
    "'''\n",
    "以顧客編號分組： groupby('CustomerID')\n",
    "依據發票編號，計算不重複的次數： \"InvoiceNo\": \"nunique\"\n",
    "計算所有發票每項貨品總價的總和： \"Total\": \"sum\"\n",
    "根據發票編號數量，由大到小排列： sort_values(\"InvoiceNo\", ascending=False)\n",
    "'''\n",
    "pur_customer = df_purchase.groupby('CustomerID')\\\n",
    ".agg({\"InvoiceNo\": \"nunique\", \"Total\": \"sum\"}).reset_index() \\\n",
    ".sort_values('InvoiceNo', ascending=False)\n",
    "\n",
    "pur_customer"
   ]
  },
  {
   "cell_type": "markdown",
   "metadata": {},
   "source": [
    "### 將顧客的購買次數與金額繪成圖形"
   ]
  },
  {
   "cell_type": "code",
   "execution_count": 9,
   "metadata": {},
   "outputs": [],
   "source": [
    "'''\n",
    "圖形中有中文字型的問題\n",
    "參考\n",
    "https://codertw.com/%E7%A8%8B%E5%BC%8F%E8%AA%9E%E8%A8%80/359974/\n",
    "'''\n",
    "from matplotlib.font_manager import FontProperties\n",
    "\n",
    "han_font = FontProperties(fname=r\"c:/windows/fonts/msjh.ttc\", size=14) # 中文字形"
   ]
  },
  {
   "cell_type": "code",
   "execution_count": 10,
   "metadata": {},
   "outputs": [],
   "source": [
    "'''\n",
    "設計圖形呈現的外觀風格\n",
    "'''\n",
    "sns.set(style=\"whitegrid\")"
   ]
  },
  {
   "cell_type": "markdown",
   "metadata": {},
   "source": [
    "以散佈圖繪製顧客的購買次數與金額"
   ]
  },
  {
   "cell_type": "code",
   "execution_count": null,
   "metadata": {},
   "outputs": [],
   "source": [
    "plt.figure(figsize=(10,5))\n",
    "ax = sns.scatterplot(data=pur_customer, x='InvoiceNo',y='Total')"
   ]
  },
  {
   "cell_type": "code",
   "execution_count": null,
   "metadata": {},
   "outputs": [],
   "source": [
    "plt.figure(figsize=(10,5))\n",
    "ax = sns.scatterplot(data=pur_customer, x='InvoiceNo',y='Total')\n",
    "# 加上圖形上的標題\n",
    "ax.set_xlabel('購買次數', fontproperties=han_font)\n",
    "ax.set_ylabel('購買金額', fontproperties=han_font)\n",
    "ax.set_title('顧客的購買次數與金額', fontproperties=han_font, fontsize=18)"
   ]
  },
  {
   "cell_type": "markdown",
   "metadata": {},
   "source": [
    "### 分析每天的購買紀錄"
   ]
  },
  {
   "cell_type": "markdown",
   "metadata": {},
   "source": [
    "- 每天的購買筆數與金額"
   ]
  },
  {
   "cell_type": "code",
   "execution_count": null,
   "metadata": {},
   "outputs": [],
   "source": [
    "purchase_date = df_purchase.groupby('PurchaseDate')\\\n",
    ".agg({\"InvoiceNo\": \"nunique\", \"Total\": \"sum\"})\\\n",
    ".reset_index()\n",
    "purchase_date"
   ]
  },
  {
   "cell_type": "markdown",
   "metadata": {},
   "source": [
    "### 將運算結果繪成圖形"
   ]
  },
  {
   "cell_type": "code",
   "execution_count": null,
   "metadata": {},
   "outputs": [],
   "source": [
    "'''\n",
    "由於並不是每天都有發票紀錄，為了繪製線圖，產生一個包含所有日期的資料框\n",
    "'''\n",
    "pur = pd.date_range('2010-12-09', '2011-12-09')\\\n",
    ".to_frame(index=False)\\\n",
    ".rename(columns={0:'PurchaseDate'})\\\n",
    ".assign(PurchaseDate= lambda x_df: x_df.PurchaseDate.apply(lambda p_dt: p_dt.date()))\n",
    "pur"
   ]
  },
  {
   "cell_type": "code",
   "execution_count": null,
   "metadata": {},
   "outputs": [],
   "source": [
    "'''\n",
    "將新產生的資料框和每天的購買金額合併\n",
    "'''\n",
    "pur = pur.merge(purchase_date, how='left', on=['PurchaseDate'])\n",
    "\n",
    "pur"
   ]
  },
  {
   "cell_type": "code",
   "execution_count": null,
   "metadata": {},
   "outputs": [],
   "source": [
    "'''\n",
    "如果當天沒有發票紀錄(Total是NaN)，便將當天的購買金額設為0\n",
    "'''\n",
    "pur.loc[pur.InvoiceNo.isnull(), 'InvoiceNo'] = 0\n",
    "pur.loc[pur.Total.isnull(), 'Total'] = 0"
   ]
  },
  {
   "cell_type": "markdown",
   "metadata": {},
   "source": [
    "將每天的購買金額畫成線圖"
   ]
  },
  {
   "cell_type": "code",
   "execution_count": null,
   "metadata": {},
   "outputs": [],
   "source": [
    "'''\n",
    "載入繪圖套件中有關日期的部分\n",
    "'''\n",
    "import matplotlib.dates as mdates"
   ]
  },
  {
   "cell_type": "code",
   "execution_count": null,
   "metadata": {},
   "outputs": [],
   "source": [
    "'''\n",
    "日期轉換所需的轉換器\n",
    "'''\n",
    "pd.plotting.register_matplotlib_converters() #轉換器函式庫位置"
   ]
  },
  {
   "cell_type": "code",
   "execution_count": null,
   "metadata": {},
   "outputs": [],
   "source": [
    "plt.figure(figsize=(10,5))\n",
    "ax = sns.lineplot(data=pur, x='PurchaseDate',y='Total')"
   ]
  },
  {
   "cell_type": "code",
   "execution_count": null,
   "metadata": {},
   "outputs": [],
   "source": [
    "plt.figure(figsize=(10,5))\n",
    "ax = sns.lineplot(data=pur, x='PurchaseDate',y='Total')\n",
    "# 加上圖形上的標題\n",
    "ax.set_xlabel('購買日期', fontproperties=han_font)\n",
    "ax.set_ylabel('購買金額', fontproperties=han_font)\n",
    "ax.set_title('每天的購買金額', fontproperties=han_font, fontsize=18)"
   ]
  },
  {
   "cell_type": "code",
   "execution_count": null,
   "metadata": {},
   "outputs": [],
   "source": [
    "plt.figure(figsize=(10,5))\n",
    "ax = sns.lineplot(data=pur, x='PurchaseDate',y='Total')\n",
    "# 加上圖形上的標題\n",
    "ax.set_xlabel('購買日期', fontproperties=han_font)\n",
    "ax.set_ylabel('購買金額', fontproperties=han_font)\n",
    "ax.set_title('每天的購買金額', fontproperties=han_font, fontsize=18)\n",
    "# 改變x軸上的主要刻度為一個月\n",
    "months = mdates.MonthLocator()  # every month\n",
    "ax.xaxis.set_major_locator(months)\n",
    "plt.xticks(rotation=60)"
   ]
  },
  {
   "cell_type": "markdown",
   "metadata": {},
   "source": [
    "### 探討一天每個時段的購買金額總數"
   ]
  },
  {
   "cell_type": "code",
   "execution_count": 16,
   "metadata": {},
   "outputs": [
    {
     "data": {
      "text/html": [
       "<div>\n",
       "<style scoped>\n",
       "    .dataframe tbody tr th:only-of-type {\n",
       "        vertical-align: middle;\n",
       "    }\n",
       "\n",
       "    .dataframe tbody tr th {\n",
       "        vertical-align: top;\n",
       "    }\n",
       "\n",
       "    .dataframe thead th {\n",
       "        text-align: right;\n",
       "    }\n",
       "</style>\n",
       "<table border=\"1\" class=\"dataframe\">\n",
       "  <thead>\n",
       "    <tr style=\"text-align: right;\">\n",
       "      <th></th>\n",
       "      <th>PurchaseHour</th>\n",
       "      <th>Total</th>\n",
       "    </tr>\n",
       "  </thead>\n",
       "  <tbody>\n",
       "    <tr>\n",
       "      <td>0</td>\n",
       "      <td>6</td>\n",
       "      <td>4.250</td>\n",
       "    </tr>\n",
       "    <tr>\n",
       "      <td>1</td>\n",
       "      <td>7</td>\n",
       "      <td>30592.210</td>\n",
       "    </tr>\n",
       "    <tr>\n",
       "      <td>2</td>\n",
       "      <td>8</td>\n",
       "      <td>278196.960</td>\n",
       "    </tr>\n",
       "    <tr>\n",
       "      <td>3</td>\n",
       "      <td>9</td>\n",
       "      <td>820238.221</td>\n",
       "    </tr>\n",
       "    <tr>\n",
       "      <td>4</td>\n",
       "      <td>10</td>\n",
       "      <td>1234346.171</td>\n",
       "    </tr>\n",
       "    <tr>\n",
       "      <td>5</td>\n",
       "      <td>11</td>\n",
       "      <td>1079427.370</td>\n",
       "    </tr>\n",
       "    <tr>\n",
       "      <td>6</td>\n",
       "      <td>12</td>\n",
       "      <td>1335843.280</td>\n",
       "    </tr>\n",
       "    <tr>\n",
       "      <td>7</td>\n",
       "      <td>13</td>\n",
       "      <td>1136096.420</td>\n",
       "    </tr>\n",
       "    <tr>\n",
       "      <td>8</td>\n",
       "      <td>14</td>\n",
       "      <td>974736.821</td>\n",
       "    </tr>\n",
       "    <tr>\n",
       "      <td>9</td>\n",
       "      <td>15</td>\n",
       "      <td>931281.500</td>\n",
       "    </tr>\n",
       "    <tr>\n",
       "      <td>10</td>\n",
       "      <td>16</td>\n",
       "      <td>421118.330</td>\n",
       "    </tr>\n",
       "    <tr>\n",
       "      <td>11</td>\n",
       "      <td>17</td>\n",
       "      <td>226069.771</td>\n",
       "    </tr>\n",
       "    <tr>\n",
       "      <td>12</td>\n",
       "      <td>18</td>\n",
       "      <td>102389.930</td>\n",
       "    </tr>\n",
       "    <tr>\n",
       "      <td>13</td>\n",
       "      <td>19</td>\n",
       "      <td>48487.810</td>\n",
       "    </tr>\n",
       "    <tr>\n",
       "      <td>14</td>\n",
       "      <td>20</td>\n",
       "      <td>18932.760</td>\n",
       "    </tr>\n",
       "  </tbody>\n",
       "</table>\n",
       "</div>"
      ],
      "text/plain": [
       "    PurchaseHour        Total\n",
       "0              6        4.250\n",
       "1              7    30592.210\n",
       "2              8   278196.960\n",
       "3              9   820238.221\n",
       "4             10  1234346.171\n",
       "5             11  1079427.370\n",
       "6             12  1335843.280\n",
       "7             13  1136096.420\n",
       "8             14   974736.821\n",
       "9             15   931281.500\n",
       "10            16   421118.330\n",
       "11            17   226069.771\n",
       "12            18   102389.930\n",
       "13            19    48487.810\n",
       "14            20    18932.760"
      ]
     },
     "execution_count": 16,
     "metadata": {},
     "output_type": "execute_result"
    }
   ],
   "source": [
    "hour_purchase = df_purchase.groupby('PurchaseHour')[[\"Total\"]].sum()\\\n",
    ".reset_index()\n",
    "\n",
    "hour_purchase"
   ]
  },
  {
   "cell_type": "code",
   "execution_count": 21,
   "metadata": {},
   "outputs": [
    {
     "data": {
      "text/plain": [
       "Text(0.5, 1.0, '不同時段的購買金額')"
      ]
     },
     "execution_count": 21,
     "metadata": {},
     "output_type": "execute_result"
    },
    {
     "data": {
      "image/png": "[encoded data removed]",
      "text/plain": [
       "<Figure size 720x360 with 1 Axes>"
      ]
     },
     "metadata": {},
     "output_type": "display_data"
    }
   ],
   "source": [
    "plt.figure(figsize=(10, 5))\n",
    "ax = sns.barplot(data=hour_purchase, x='PurchaseHour', y='Total')\n",
    "# 加上圖形上的標題\n",
    "ax.set_xlabel('購買時段', fontproperties=han_font)\n",
    "ax.set_ylabel('購買金額', fontproperties=han_font)\n",
    "ax.set_title('不同時段的購買金額', fontproperties=han_font, fontsize=18)"
   ]
  },
  {
   "cell_type": "code",
   "execution_count": null,
   "metadata": {},
   "outputs": [],
   "source": [
    "依據購買金額排序商品"
   ]
  },
  {
   "cell_type": "code",
   "execution_count": 24,
   "metadata": {},
   "outputs": [
    {
     "data": {
      "text/html": [
       "<div>\n",
       "<style scoped>\n",
       "    .dataframe tbody tr th:only-of-type {\n",
       "        vertical-align: middle;\n",
       "    }\n",
       "\n",
       "    .dataframe tbody tr th {\n",
       "        vertical-align: top;\n",
       "    }\n",
       "\n",
       "    .dataframe thead th {\n",
       "        text-align: right;\n",
       "    }\n",
       "</style>\n",
       "<table border=\"1\" class=\"dataframe\">\n",
       "  <thead>\n",
       "    <tr style=\"text-align: right;\">\n",
       "      <th></th>\n",
       "      <th>Description</th>\n",
       "      <th>Total</th>\n",
       "    </tr>\n",
       "  </thead>\n",
       "  <tbody>\n",
       "    <tr>\n",
       "      <td>2291</td>\n",
       "      <td>PAPER CRAFT , LITTLE BIRDIE</td>\n",
       "      <td>168469.600</td>\n",
       "    </tr>\n",
       "    <tr>\n",
       "      <td>2731</td>\n",
       "      <td>REGENCY CAKESTAND 3 TIER</td>\n",
       "      <td>135097.900</td>\n",
       "    </tr>\n",
       "    <tr>\n",
       "      <td>3653</td>\n",
       "      <td>WHITE HANGING HEART T-LIGHT HOLDER</td>\n",
       "      <td>96281.100</td>\n",
       "    </tr>\n",
       "    <tr>\n",
       "      <td>1738</td>\n",
       "      <td>JUMBO BAG RED RETROSPOT</td>\n",
       "      <td>82870.730</td>\n",
       "    </tr>\n",
       "    <tr>\n",
       "      <td>1966</td>\n",
       "      <td>MEDIUM CERAMIC TOP STORAGE JAR</td>\n",
       "      <td>81416.730</td>\n",
       "    </tr>\n",
       "    <tr>\n",
       "      <td>...</td>\n",
       "      <td>...</td>\n",
       "      <td>...</td>\n",
       "    </tr>\n",
       "    <tr>\n",
       "      <td>2606</td>\n",
       "      <td>PURPLE FRANGIPANI HAIRCLIP</td>\n",
       "      <td>0.850</td>\n",
       "    </tr>\n",
       "    <tr>\n",
       "      <td>2416</td>\n",
       "      <td>PINK CRYSTAL GUITAR PHONE CHARM</td>\n",
       "      <td>0.850</td>\n",
       "    </tr>\n",
       "    <tr>\n",
       "      <td>2896</td>\n",
       "      <td>SET 12 COLOURING PENCILS DOILEY</td>\n",
       "      <td>0.650</td>\n",
       "    </tr>\n",
       "    <tr>\n",
       "      <td>1606</td>\n",
       "      <td>HEN HOUSE W CHICK IN NEST</td>\n",
       "      <td>0.420</td>\n",
       "    </tr>\n",
       "    <tr>\n",
       "      <td>2247</td>\n",
       "      <td>PADS TO MATCH ALL CUSHIONS</td>\n",
       "      <td>0.003</td>\n",
       "    </tr>\n",
       "  </tbody>\n",
       "</table>\n",
       "<p>3830 rows × 2 columns</p>\n",
       "</div>"
      ],
      "text/plain": [
       "                             Description       Total\n",
       "2291         PAPER CRAFT , LITTLE BIRDIE  168469.600\n",
       "2731            REGENCY CAKESTAND 3 TIER  135097.900\n",
       "3653  WHITE HANGING HEART T-LIGHT HOLDER   96281.100\n",
       "1738             JUMBO BAG RED RETROSPOT   82870.730\n",
       "1966      MEDIUM CERAMIC TOP STORAGE JAR   81416.730\n",
       "...                                  ...         ...\n",
       "2606          PURPLE FRANGIPANI HAIRCLIP       0.850\n",
       "2416     PINK CRYSTAL GUITAR PHONE CHARM       0.850\n",
       "2896     SET 12 COLOURING PENCILS DOILEY       0.650\n",
       "1606           HEN HOUSE W CHICK IN NEST       0.420\n",
       "2247          PADS TO MATCH ALL CUSHIONS       0.003\n",
       "\n",
       "[3830 rows x 2 columns]"
      ]
     },
     "execution_count": 24,
     "metadata": {},
     "output_type": "execute_result"
    }
   ],
   "source": [
    "df_purchase.groupby(\"Description\").Total.sum().reset_index().sort_values(\"Total\", ascending=False)"
   ]
  },
  {
   "cell_type": "code",
   "execution_count": null,
   "metadata": {},
   "outputs": [],
   "source": []
  }
 ],
 "metadata": {
  "anaconda-cloud": {},
  "kernelspec": {
   "display_name": "Python 3",
   "language": "python",
   "name": "python3"
  },
  "language_info": {
   "codemirror_mode": {
    "name": "ipython",
    "version": 3
   },
   "file_extension": ".py",
   "mimetype": "text/x-python",
   "name": "python",
   "nbconvert_exporter": "python",
   "pygments_lexer": "ipython3",
   "version": "3.6.9"
  }
 },
 "nbformat": 4,
 "nbformat_minor": 2
}
