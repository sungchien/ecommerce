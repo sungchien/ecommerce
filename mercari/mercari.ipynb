{
 "cells": [
  {
   "cell_type": "markdown",
   "metadata": {},
   "source": [
    "## 探索性資料分析"
   ]
  },
  {
   "cell_type": "markdown",
   "metadata": {},
   "source": [
    "探索性資料分析(Exploratory Data Analysis)是指利用**描述性統計**和**圖形**表示等方式對輸入的資料進行初步調查，目的是**發現模式**(patterns)，**偵測異常**(anomalies)以及**檢驗假設**(assumptions)。\n",
    "\n",
    "目前並沒有十分嚴格的探索性資料分析流程。但大部分的資料可以依據以下的步驟進行：\n",
    "\n",
    "1. 發現資料中每個Variable的型態與意義。找出或轉換了解問題所需的資料Variables。\n",
    "\n",
    "2. 資料中是否有錯誤，例如資料重複或輸入錯誤？發生在那些Variable上？如何處理這些錯誤？\n",
    "\n",
    "3. 資料中是否有遺漏值 (missing values)，發生在那些Variable上？如何處理這些遺漏值？\n",
    "\n",
    "4. 根據資料的分布範圍，哪些是與其他資料大不相同的異常值(outliers)？這些異常值要如何處理？\n",
    "\n",
    "5. 原始資料是否需要彙整？換句說，將以一筆資料**代表**一群相關的Observations。如何代表？\n",
    "\n",
    "6. Variables有無需要進行合併？如何進行合併？\n",
    "\n",
    "7. 形成問題的假設，從資料中發展出想要了解的問題。\n",
    "\n",
    "8. 有必要的話，重複上面的步驟"
   ]
  },
  {
   "cell_type": "markdown",
   "metadata": {},
   "source": [
    "本次課程將利用[mercari資料集](https://www.kaggle.com/c/mercari-price-suggestion-challenge/data)學習探索性資料分析"
   ]
  },
  {
   "cell_type": "markdown",
   "metadata": {},
   "source": [
    "### 載入套件"
   ]
  },
  {
   "cell_type": "code",
   "execution_count": 1,
   "metadata": {},
   "outputs": [],
   "source": [
    "#import gc # garbage collection\n",
    "#import time\n",
    "import numpy as np #數值運算\n",
    "import pandas as pd #資料框\n",
    "import matplotlib.pyplot as plt #繪圖\n",
    "import seaborn as sns #繪圖\n",
    "#from scipy.sparse import csr_matrix, hstack\n",
    "#from sklearn.feature_extraction.text import CountVectorizer, TfidfVectorizer\n",
    "#from sklearn.preprocessing import LabelBinarizer\n",
    "#from sklearn.model_selection import train_test_split, cross_val_score\n",
    "#from sklearn.metrics import mean_squared_error\n",
    "#import lightgbm as lgb"
   ]
  },
  {
   "cell_type": "markdown",
   "metadata": {},
   "source": [
    "### 讀入資料集檔案"
   ]
  },
  {
   "cell_type": "code",
   "execution_count": 2,
   "metadata": {},
   "outputs": [],
   "source": [
    "'''\n",
    "pd.read_csv()讀入資料集檔案內的資料，形成資料框(data frame)\n",
    "'''\n",
    "train = pd.read_csv('train.tsv', sep = '\\t')"
   ]
  },
  {
   "cell_type": "markdown",
   "metadata": {},
   "source": [
    "### 查看資料集的各種資訊"
   ]
  },
  {
   "cell_type": "code",
   "execution_count": null,
   "metadata": {},
   "outputs": [],
   "source": [
    "train.shape #查看資料的row(列)嶼column(行)"
   ]
  },
  {
   "cell_type": "code",
   "execution_count": null,
   "metadata": {},
   "outputs": [],
   "source": [
    "train.head() #查看前五筆資料"
   ]
  },
  {
   "cell_type": "code",
   "execution_count": null,
   "metadata": {},
   "outputs": [],
   "source": [
    "train.info() #資料的各欄位"
   ]
  },
  {
   "cell_type": "markdown",
   "metadata": {},
   "source": [
    "train_id：資料編號\n",
    "name：商品名稱\n",
    "item_condition_id：品項狀態\n",
    "category_name：類別名稱\n",
    "brand_name：品牌名稱\n",
    "price：價格\n",
    "shipping：運送費用的支付者(0:，1:)\n",
    "item_description：品項描述"
   ]
  },
  {
   "cell_type": "markdown",
   "metadata": {},
   "source": [
    "### 商品資料名稱與分布"
   ]
  },
  {
   "cell_type": "code",
   "execution_count": null,
   "metadata": {},
   "outputs": [],
   "source": [
    "print(\"總共有{}種商品 \".format(train.name.nunique()))"
   ]
  },
  {
   "cell_type": "code",
   "execution_count": null,
   "metadata": {},
   "outputs": [],
   "source": [
    "#訂購最多的前20種商品 (pandas Series version)\n",
    "'''\n",
    "x.value_counts()計算Series x內的元素個數\n",
    "'''\n",
    "train.name.value_counts()[:20]"
   ]
  },
  {
   "cell_type": "code",
   "execution_count": null,
   "metadata": {},
   "outputs": [],
   "source": [
    "#訂購最多的前20種商品 (pandas data frame version)\n",
    "'''\n",
    "df.group('x')依照欄位x將資料框df資料分群\n",
    "x.nunique() 計算Series x的資料數目\n",
    ".sort_values('x', ascending=False)依據欄位x，將資料框的資料由大到小排列\n",
    "'''\n",
    "train.groupby('name')\\\n",
    ".train_id.count().\\\n",
    "reset_index().sort_values('train_id', ascending=False)[:20]"
   ]
  },
  {
   "cell_type": "markdown",
   "metadata": {},
   "source": [
    "從上面的結果，可以發現原先資料集商品名稱的大小寫不統一"
   ]
  },
  {
   "cell_type": "code",
   "execution_count": 3,
   "metadata": {},
   "outputs": [
    {
     "name": "stdout",
     "output_type": "stream",
     "text": [
      "總共有1139301種商品 \n"
     ]
    },
    {
     "data": {
      "text/html": [
       "<div>\n",
       "<style scoped>\n",
       "    .dataframe tbody tr th:only-of-type {\n",
       "        vertical-align: middle;\n",
       "    }\n",
       "\n",
       "    .dataframe tbody tr th {\n",
       "        vertical-align: top;\n",
       "    }\n",
       "\n",
       "    .dataframe thead th {\n",
       "        text-align: right;\n",
       "    }\n",
       "</style>\n",
       "<table border=\"1\" class=\"dataframe\">\n",
       "  <thead>\n",
       "    <tr style=\"text-align: right;\">\n",
       "      <th></th>\n",
       "      <th>name</th>\n",
       "      <th>train_id</th>\n",
       "    </tr>\n",
       "  </thead>\n",
       "  <tbody>\n",
       "    <tr>\n",
       "      <th>221958</th>\n",
       "      <td>bundle</td>\n",
       "      <td>2778</td>\n",
       "    </tr>\n",
       "    <tr>\n",
       "      <th>597266</th>\n",
       "      <td>lularoe tc leggings</td>\n",
       "      <td>1126</td>\n",
       "    </tr>\n",
       "    <tr>\n",
       "      <th>589751</th>\n",
       "      <td>lularoe os leggings</td>\n",
       "      <td>897</td>\n",
       "    </tr>\n",
       "    <tr>\n",
       "      <th>274550</th>\n",
       "      <td>coach purse</td>\n",
       "      <td>698</td>\n",
       "    </tr>\n",
       "    <tr>\n",
       "      <th>109621</th>\n",
       "      <td>american eagle jeans</td>\n",
       "      <td>671</td>\n",
       "    </tr>\n",
       "    <tr>\n",
       "      <th>664648</th>\n",
       "      <td>miss me jeans</td>\n",
       "      <td>670</td>\n",
       "    </tr>\n",
       "    <tr>\n",
       "      <th>872145</th>\n",
       "      <td>reserved</td>\n",
       "      <td>654</td>\n",
       "    </tr>\n",
       "    <tr>\n",
       "      <th>782848</th>\n",
       "      <td>on hold</td>\n",
       "      <td>562</td>\n",
       "    </tr>\n",
       "    <tr>\n",
       "      <th>654297</th>\n",
       "      <td>michael kors purse</td>\n",
       "      <td>557</td>\n",
       "    </tr>\n",
       "    <tr>\n",
       "      <th>655463</th>\n",
       "      <td>michael kors wallet</td>\n",
       "      <td>489</td>\n",
       "    </tr>\n",
       "    <tr>\n",
       "      <th>282480</th>\n",
       "      <td>converse</td>\n",
       "      <td>473</td>\n",
       "    </tr>\n",
       "    <tr>\n",
       "      <th>581918</th>\n",
       "      <td>lularoe irma</td>\n",
       "      <td>453</td>\n",
       "    </tr>\n",
       "    <tr>\n",
       "      <th>275610</th>\n",
       "      <td>coach wallet</td>\n",
       "      <td>436</td>\n",
       "    </tr>\n",
       "    <tr>\n",
       "      <th>323553</th>\n",
       "      <td>dress</td>\n",
       "      <td>428</td>\n",
       "    </tr>\n",
       "    <tr>\n",
       "      <th>735050</th>\n",
       "      <td>nike shorts</td>\n",
       "      <td>407</td>\n",
       "    </tr>\n",
       "    <tr>\n",
       "      <th>584080</th>\n",
       "      <td>lularoe leggings</td>\n",
       "      <td>394</td>\n",
       "    </tr>\n",
       "    <tr>\n",
       "      <th>1027947</th>\n",
       "      <td>vans</td>\n",
       "      <td>383</td>\n",
       "    </tr>\n",
       "    <tr>\n",
       "      <th>455731</th>\n",
       "      <td>hollister jeans</td>\n",
       "      <td>381</td>\n",
       "    </tr>\n",
       "    <tr>\n",
       "      <th>275852</th>\n",
       "      <td>coach wristlet</td>\n",
       "      <td>380</td>\n",
       "    </tr>\n",
       "    <tr>\n",
       "      <th>884620</th>\n",
       "      <td>romper</td>\n",
       "      <td>379</td>\n",
       "    </tr>\n",
       "  </tbody>\n",
       "</table>\n",
       "</div>"
      ],
      "text/plain": [
       "                         name  train_id\n",
       "221958                 bundle      2778\n",
       "597266    lularoe tc leggings      1126\n",
       "589751    lularoe os leggings       897\n",
       "274550            coach purse       698\n",
       "109621   american eagle jeans       671\n",
       "664648          miss me jeans       670\n",
       "872145               reserved       654\n",
       "782848                on hold       562\n",
       "654297     michael kors purse       557\n",
       "655463    michael kors wallet       489\n",
       "282480               converse       473\n",
       "581918           lularoe irma       453\n",
       "275610           coach wallet       436\n",
       "323553                  dress       428\n",
       "735050            nike shorts       407\n",
       "584080       lularoe leggings       394\n",
       "1027947                  vans       383\n",
       "455731        hollister jeans       381\n",
       "275852         coach wristlet       380\n",
       "884620                 romper       379"
      ]
     },
     "execution_count": 3,
     "metadata": {},
     "output_type": "execute_result"
    }
   ],
   "source": [
    "# 計算訂購最多的前20種商品之前，先將商品名稱的大小寫統一，一律改為小寫\n",
    "'''\n",
    "df.assign(x=<exp>) 將df的欄位x改為<exp>的計算結果\n",
    "x.apply(<fun>) 將Series x的元素分別代入函數<fun>中計算\n",
    "lambda p 參數為p的虛擬函數\n",
    "str.lower() 將str內的英文字母改為小寫\n",
    "'''\n",
    "train = train.assign(name=train.name.apply(lambda x_name: x_name.lower()))\n",
    "\n",
    "#print(\"總共有{}種商品 \".format(len(train.name.unique())))\n",
    "print(\"總共有{}種商品 \".format(train.name.nunique()))\n",
    "\n",
    "train.groupby('name')\\\n",
    ".train_id.count()\\\n",
    ".reset_index().sort_values('train_id', ascending=False)[:20]"
   ]
  },
  {
   "cell_type": "code",
   "execution_count": null,
   "metadata": {},
   "outputs": [],
   "source": [
    "# 商品資料在名稱上的分布\n",
    "'''\n",
    "x.describe() Series x的描述性統計\n",
    "'''\n",
    "train.groupby('name')\\\n",
    ".train_id.count()\\\n",
    ".reset_index()\\\n",
    ".train_id.describe()"
   ]
  },
  {
   "cell_type": "markdown",
   "metadata": {},
   "source": [
    "絕大多數的商品都只出現一次"
   ]
  },
  {
   "cell_type": "markdown",
   "metadata": {},
   "source": [
    "### 類別資料名稱與分布"
   ]
  },
  {
   "cell_type": "code",
   "execution_count": 4,
   "metadata": {},
   "outputs": [
    {
     "name": "stdout",
     "output_type": "stream",
     "text": [
      "總共有 6327 筆資料缺少類別\n"
     ]
    }
   ],
   "source": [
    "# missing categories\n",
    "print(\"總共有 {} 筆資料缺少類別\".format(train[\"category_name\"].isnull().sum()))"
   ]
  },
  {
   "cell_type": "code",
   "execution_count": 5,
   "metadata": {},
   "outputs": [],
   "source": [
    "# reference: BuryBuryZymon at https://www.kaggle.com/maheshdadhich/i-will-sell-everything-for-free-0-55\n",
    "def split_cat(text):\n",
    "    try: return text.split(\"/\") #傳回3個字串(主類別、次類別、細類別)\n",
    "    except: return (\"No Label\", \"No Label\", \"No Label\") #處理資料缺少類別的情形"
   ]
  },
  {
   "cell_type": "code",
   "execution_count": 6,
   "metadata": {},
   "outputs": [],
   "source": [
    "train['general_cat'], train['subcat_1'], train['subcat_2'] = \\\n",
    "zip(*train['category_name'].apply(lambda x: split_cat(x)))"
   ]
  },
  {
   "cell_type": "code",
   "execution_count": null,
   "metadata": {},
   "outputs": [],
   "source": [
    "train.head()"
   ]
  },
  {
   "cell_type": "code",
   "execution_count": null,
   "metadata": {},
   "outputs": [],
   "source": [
    "'''\n",
    "分析資料集中有多少主類別？主類別上的資料數量與價錢的分布情形分別為何？\n",
    "'''"
   ]
  },
  {
   "cell_type": "code",
   "execution_count": 7,
   "metadata": {},
   "outputs": [
    {
     "name": "stdout",
     "output_type": "stream",
     "text": [
      "總共有11種主類別 \n"
     ]
    }
   ],
   "source": [
    "print(\"總共有{}種主類別 \".format(train.general_cat.nunique()))"
   ]
  },
  {
   "cell_type": "code",
   "execution_count": null,
   "metadata": {},
   "outputs": [],
   "source": [
    "# 主類別上的資料數量分布\n",
    "train.groupby('general_cat')\\\n",
    ".train_id.count()\\\n",
    ".reset_index().sort_values('train_id', ascending=False)"
   ]
  },
  {
   "cell_type": "code",
   "execution_count": null,
   "metadata": {},
   "outputs": [],
   "source": [
    "# 主類別上的價錢分布\n",
    "train.groupby('general_cat')\\\n",
    ".price.sum()\\\n",
    ".reset_index().sort_values('price', ascending=False)"
   ]
  },
  {
   "cell_type": "code",
   "execution_count": 8,
   "metadata": {},
   "outputs": [
    {
     "data": {
      "text/html": [
       "<div>\n",
       "<style scoped>\n",
       "    .dataframe tbody tr th:only-of-type {\n",
       "        vertical-align: middle;\n",
       "    }\n",
       "\n",
       "    .dataframe tbody tr th {\n",
       "        vertical-align: top;\n",
       "    }\n",
       "\n",
       "    .dataframe thead th {\n",
       "        text-align: right;\n",
       "    }\n",
       "</style>\n",
       "<table border=\"1\" class=\"dataframe\">\n",
       "  <thead>\n",
       "    <tr style=\"text-align: right;\">\n",
       "      <th></th>\n",
       "      <th>general_cat</th>\n",
       "      <th>train_id</th>\n",
       "      <th>price</th>\n",
       "      <th>avg_price</th>\n",
       "    </tr>\n",
       "  </thead>\n",
       "  <tbody>\n",
       "    <tr>\n",
       "      <th>1</th>\n",
       "      <td>Electronics</td>\n",
       "      <td>122690</td>\n",
       "      <td>4315488.5</td>\n",
       "      <td>35.173922</td>\n",
       "    </tr>\n",
       "    <tr>\n",
       "      <th>5</th>\n",
       "      <td>Men</td>\n",
       "      <td>93680</td>\n",
       "      <td>3251503.0</td>\n",
       "      <td>34.708614</td>\n",
       "    </tr>\n",
       "    <tr>\n",
       "      <th>10</th>\n",
       "      <td>Women</td>\n",
       "      <td>664385</td>\n",
       "      <td>19191090.0</td>\n",
       "      <td>28.885496</td>\n",
       "    </tr>\n",
       "    <tr>\n",
       "      <th>9</th>\n",
       "      <td>Vintage &amp; Collectibles</td>\n",
       "      <td>46530</td>\n",
       "      <td>1272103.5</td>\n",
       "      <td>27.339426</td>\n",
       "    </tr>\n",
       "    <tr>\n",
       "      <th>8</th>\n",
       "      <td>Sports &amp; Outdoors</td>\n",
       "      <td>25342</td>\n",
       "      <td>647037.5</td>\n",
       "      <td>25.532219</td>\n",
       "    </tr>\n",
       "    <tr>\n",
       "      <th>6</th>\n",
       "      <td>No Label</td>\n",
       "      <td>6327</td>\n",
       "      <td>160672.0</td>\n",
       "      <td>25.394658</td>\n",
       "    </tr>\n",
       "    <tr>\n",
       "      <th>3</th>\n",
       "      <td>Home</td>\n",
       "      <td>67871</td>\n",
       "      <td>1665323.5</td>\n",
       "      <td>24.536599</td>\n",
       "    </tr>\n",
       "    <tr>\n",
       "      <th>7</th>\n",
       "      <td>Other</td>\n",
       "      <td>45351</td>\n",
       "      <td>943746.0</td>\n",
       "      <td>20.809817</td>\n",
       "    </tr>\n",
       "    <tr>\n",
       "      <th>4</th>\n",
       "      <td>Kids</td>\n",
       "      <td>171689</td>\n",
       "      <td>3544058.5</td>\n",
       "      <td>20.642315</td>\n",
       "    </tr>\n",
       "    <tr>\n",
       "      <th>0</th>\n",
       "      <td>Beauty</td>\n",
       "      <td>207828</td>\n",
       "      <td>4088296.0</td>\n",
       "      <td>19.671536</td>\n",
       "    </tr>\n",
       "    <tr>\n",
       "      <th>2</th>\n",
       "      <td>Handmade</td>\n",
       "      <td>30842</td>\n",
       "      <td>559985.0</td>\n",
       "      <td>18.156572</td>\n",
       "    </tr>\n",
       "  </tbody>\n",
       "</table>\n",
       "</div>"
      ],
      "text/plain": [
       "               general_cat  train_id       price  avg_price\n",
       "1              Electronics    122690   4315488.5  35.173922\n",
       "5                      Men     93680   3251503.0  34.708614\n",
       "10                   Women    664385  19191090.0  28.885496\n",
       "9   Vintage & Collectibles     46530   1272103.5  27.339426\n",
       "8        Sports & Outdoors     25342    647037.5  25.532219\n",
       "6                 No Label      6327    160672.0  25.394658\n",
       "3                     Home     67871   1665323.5  24.536599\n",
       "7                    Other     45351    943746.0  20.809817\n",
       "4                     Kids    171689   3544058.5  20.642315\n",
       "0                   Beauty    207828   4088296.0  19.671536\n",
       "2                 Handmade     30842    559985.0  18.156572"
      ]
     },
     "execution_count": 8,
     "metadata": {},
     "output_type": "execute_result"
    }
   ],
   "source": [
    "# 同時計算主類別上的資料數量與價錢分布\n",
    "general_cat = train.groupby('general_cat')\\\n",
    ".agg({\"train_id\": \"count\",\n",
    "      \"price\": \"sum\"})\\\n",
    ".reset_index()\\\n",
    ".assign(avg_price=lambda x: x.price/x.train_id)\\\n",
    ".sort_values('avg_price', ascending=False)\n",
    "\n",
    "general_cat"
   ]
  },
  {
   "cell_type": "code",
   "execution_count": 17,
   "metadata": {},
   "outputs": [],
   "source": [
    "'''\n",
    "圖形中有中文字型的問題\n",
    "參考\n",
    "https://codertw.com/%E7%A8%8B%E5%BC%8F%E8%AA%9E%E8%A8%80/359974/\n",
    "'''\n",
    "from matplotlib.font_manager import findfont, FontProperties\n",
    "\n",
    "han_font = FontProperties(fname=r\"c:/windows/fonts/msjh.ttc\", size=14) # 中文字形"
   ]
  },
  {
   "cell_type": "code",
   "execution_count": 21,
   "metadata": {},
   "outputs": [
    {
     "data": {
      "text/plain": [
       "Text(0, 0.5, '資料數量')"
      ]
     },
     "execution_count": 21,
     "metadata": {},
     "output_type": "execute_result"
    },
    {
     "data": {
      "image/png": "[encoded data removed]",
      "text/plain": [
       "<Figure size 1440x648 with 1 Axes>"
      ]
     },
     "metadata": {},
     "output_type": "display_data"
    }
   ],
   "source": [
    "plt.figure(figsize=(20, 9))\n",
    "ax = sns.barplot(x=\"general_cat\", y=\"train_id\", data=general_cat.sort_values(\"train_id\", ascending=False), color=\"blue\")\n",
    "ax.set_xlabel(\"主類別\", fontproperties=han_font)\n",
    "ax.set_ylabel(\"資料數量\", fontproperties=han_font)"
   ]
  },
  {
   "cell_type": "code",
   "execution_count": null,
   "metadata": {},
   "outputs": [],
   "source": [
    "'''\n",
    "請參考前面的例子，分析資料集中有多少次類別？次類別上的資料數量與價錢的分布情形分別為何？\n",
    "'''"
   ]
  },
  {
   "cell_type": "code",
   "execution_count": null,
   "metadata": {},
   "outputs": [],
   "source": [
    "'''\n",
    "請參考前面的例子，分析資料集中有多少細類別？細類別上的資料數量與價錢的分布情形分別為何？\n",
    "'''"
   ]
  },
  {
   "cell_type": "markdown",
   "metadata": {},
   "source": [
    "### 品牌資料名稱與分布"
   ]
  },
  {
   "cell_type": "code",
   "execution_count": null,
   "metadata": {},
   "outputs": [],
   "source": [
    "'''\n",
    "請參考前面的例子，分析資料集中有多少品牌？出現最多次的前二十個品牌是什麼？品牌資料的分布情形為何？\n",
    "'''"
   ]
  },
  {
   "cell_type": "markdown",
   "metadata": {},
   "source": [
    "### 價錢資料的分布"
   ]
  },
  {
   "cell_type": "markdown",
   "metadata": {},
   "source": [
    "價錢資料的描述性統計"
   ]
  },
  {
   "cell_type": "code",
   "execution_count": 19,
   "metadata": {},
   "outputs": [
    {
     "data": {
      "text/plain": [
       "count    1.482535e+06\n",
       "mean     2.673752e+01\n",
       "std      3.858607e+01\n",
       "min      0.000000e+00\n",
       "25%      1.000000e+01\n",
       "50%      1.700000e+01\n",
       "75%      2.900000e+01\n",
       "max      2.009000e+03\n",
       "Name: price, dtype: float64"
      ]
     },
     "execution_count": 19,
     "metadata": {},
     "output_type": "execute_result"
    }
   ],
   "source": [
    "train.price.describe()"
   ]
  },
  {
   "cell_type": "code",
   "execution_count": 20,
   "metadata": {},
   "outputs": [],
   "source": [
    "# 將價格為0的資料刪除\n",
    "train = train.loc[train.price>0]"
   ]
  },
  {
   "cell_type": "markdown",
   "metadata": {},
   "source": [
    "價錢資料分布的視覺化"
   ]
  },
  {
   "cell_type": "markdown",
   "metadata": {},
   "source": [
    "資料分布的視覺化通常以直方圖(histogram)或密度圖(density plot)呈現，由於資料有明顯的右偏態(right-skewed, 右方較長)，因此可以對數尺度呈現x軸座標"
   ]
  },
  {
   "cell_type": "code",
   "execution_count": null,
   "metadata": {},
   "outputs": [],
   "source": [
    "# 以直方圖呈現價錢資料分布的視覺化，左邊為一般的X軸(但只顯示較小的範圍)，右邊為以對數尺度呈現的X軸\n",
    "'''\n",
    "sna.distplot(x, kde=False, bins=np.arange(0, 250, 5))不需畫出density，範圍為0到250之間，間隔為5\n",
    "'''\n",
    "sns.set()\n",
    "f = plt.figure(figsize=(20,9)) #圖形大小\n",
    "ax1 = f.add_subplot(121) #設為左右兩張圖的左邊\n",
    "sns.distplot(train.price, kde=False, bins=np.arange(0, 250, 5))\n",
    "ax1.set_xlabel('價格', fontproperties=han_font)\n",
    "ax1.set_ylabel('資料數量', fontproperties=han_font)\n",
    "ax1.set_title('價格的區間分布情形(0到250之間)', fontproperties=han_font, fontsize=18)\n",
    "\n",
    "train=train.assign(price_log10=np.log10(train.price))\n",
    "ax2 = f.add_subplot(122) #設為左右兩張圖的右邊\n",
    "sns.distplot(train.price_log10, kde=False, bins=np.arange(0, 3.5, 0.25))\n",
    "labels = ['%.2f' % np.power(10, tick) for tick in ax2.get_xticks()]\n",
    "ax2.set_xticklabels(labels)\n",
    "ax2.set_xlabel('價格', fontproperties=han_font)\n",
    "ax2.set_ylabel('資料數量', fontproperties=han_font)\n",
    "ax2.set_title('價格的區間分布情形(對數尺度)', fontproperties=han_font, fontsize=18)"
   ]
  },
  {
   "cell_type": "markdown",
   "metadata": {},
   "source": [
    "### 運費支付方式"
   ]
  },
  {
   "cell_type": "code",
   "execution_count": null,
   "metadata": {},
   "outputs": [],
   "source": [
    "'''\n",
    "shipping==0 由買家(buyer)支付\n",
    "shipping==1 由賣家(seller)支付\n",
    "'''\n",
    "train.groupby('shipping')\\\n",
    ".train_id.nunique()\\\n",
    ".reset_index()\\\n",
    ".assign(proportion=lambda x: x.train_id/x.train_id.sum())"
   ]
  },
  {
   "cell_type": "markdown",
   "metadata": {},
   "source": [
    "由買家(buyer)支付，約佔55%"
   ]
  },
  {
   "cell_type": "code",
   "execution_count": null,
   "metadata": {},
   "outputs": [],
   "source": [
    "# 將shipping==0設為Buyer(買家)，否則便設為Seller(賣家)\n",
    "train = train.assign(shipping_type=train.shipping.apply(lambda x: \"Buyer\" if x==0 else \"Seller\"))\n",
    "\n",
    "train.head()"
   ]
  },
  {
   "cell_type": "code",
   "execution_count": null,
   "metadata": {},
   "outputs": [],
   "source": [
    "train.groupby('shipping_type')\\\n",
    ".train_id.nunique()\\\n",
    ".reset_index()\\\n",
    ".assign(proportion=lambda df: df.train_id/df.train_id.sum())"
   ]
  },
  {
   "cell_type": "code",
   "execution_count": null,
   "metadata": {},
   "outputs": [],
   "source": [
    "print('由買家支付運費時的平均價格為 {} 元'.format(round(train.loc[train.shipping_type==\"Buyer\", \"price\"].mean(), 2)));\n",
    "print('由賣家支付運費時的平均價格為 {} 元'.format(round(train.loc[train.shipping_type==\"Seller\", \"price\"].mean(), 2)))"
   ]
  },
  {
   "cell_type": "code",
   "execution_count": null,
   "metadata": {},
   "outputs": [],
   "source": [
    "sns.set()\n",
    "f = plt.figure(figsize=(20,9)) #圖形大小\n",
    "\n",
    "g = sns.distplot(train.loc[train.shipping_type==\"Buyer\", \"price_log10\"], kde=False, bins=np.arange(0, 3.5, 0.25),\n",
    "             hist_kws={\"alpha\": 1.0, \"color\": \"#8CB4E1\"})\n",
    "sns.distplot(train.loc[train.shipping_type==\"Seller\", \"price_log10\"], kde=False, bins=np.arange(0, 3.5, 0.25),\n",
    "             hist_kws={\"alpha\": 0.7, \"color\": \"#007D00\"})\n",
    "\n",
    "g.legend(loc='upper right', labels=['買家支付', '賣家支付'],  prop=han_font) # 圖例的設定\n",
    "\n",
    "labels = ['%.2f' % np.power(10, tick) for tick in g.get_xticks()]\n",
    "g.set_xticklabels(labels)\n",
    "g.set_xlabel('價格', fontproperties=han_font)\n",
    "g.set_ylabel('資料數量', fontproperties=han_font)\n",
    "g.set_title('不同支付方式的價格區間分布情形(對數尺度)', fontproperties=han_font, fontsize=18)"
   ]
  },
  {
   "cell_type": "code",
   "execution_count": null,
   "metadata": {},
   "outputs": [],
   "source": [
    "pal = dict(Buyer=\"#8CB4E1\", Seller=\"#007D00\")\n",
    "sns.set()\n",
    "\n",
    "g = sns.FacetGrid(train, row=\"shipping_type\", hue=\"shipping_type\", palette=pal,\n",
    "                  hue_order=[\"Buyer\", \"Seller\"], height=5, aspect=2)\n",
    "g = g.map(plt.hist, \"price_log10\", bins=np.arange(0, 3.5, 0.25))\n",
    "\n",
    "g.set_xlabels(\"價格\", fontproperties=han_font)\n",
    "g.set_ylabels(\"資料數量\", fontproperties=han_font)\n",
    "g.fig.subplots_adjust(top=0.9)\n",
    "g.fig.suptitle('不同支付方式的價格區間分布情形(對數尺度)', fontproperties=han_font, fontsize=18)\n",
    "\n",
    "axes = g.axes.flatten()\n",
    "axes[0].set_title(\"賣家支付\", fontproperties=han_font)\n",
    "axes[1].set_title(\"買家支付\", fontproperties=han_font)\n",
    "\n",
    "labels = ['%.2f' % np.power(10, tick) for tick in axes[1].get_xticks()]\n",
    "axes[1].set_xticklabels(labels)\n"
   ]
  },
  {
   "cell_type": "markdown",
   "metadata": {},
   "source": [
    "### 品項狀態資料"
   ]
  },
  {
   "cell_type": "code",
   "execution_count": null,
   "metadata": {},
   "outputs": [],
   "source": [
    "train.groupby('item_condition_id').train_id.nunique().reset_index().assign(proportion=lambda x: x.train_id/x.train_id.sum())"
   ]
  },
  {
   "cell_type": "code",
   "execution_count": null,
   "metadata": {},
   "outputs": [],
   "source": [
    "sns.set()\n",
    "\n",
    "g = sns.FacetGrid(train, row=\"shipping_type\", col=\"item_condition_id\",\n",
    "                  hue=\"shipping_type\", palette=pal,\n",
    "                  height=3, aspect=2, margin_titles=True,\n",
    "                  sharey=\"col\")\n",
    "g = g.map(plt.hist, \"price_log10\", bins=np.arange(0, 3.5, 0.25))\n",
    "\n",
    "[plt.setp(ax.texts, text=\"\") for ax in g.axes.flat] # remove the original texts\n",
    "                                                    # important to add this before setting titles\n",
    "g.set_titles(row_template=\"{row_name}\")\n",
    "\n",
    "g.set_xlabels(\"價格\", fontproperties=han_font)\n",
    "g.set_ylabels(\"資料數量\", fontproperties=han_font)\n",
    "\n",
    "for ax in g.axes.flat:\n",
    "    labels = ['%.2f' % np.power(10, tick) for tick in ax.get_xticks()]\n",
    "    ax.set_xticklabels(labels)\n",
    "\n",
    "plt.savefig('item_condition.svg')"
   ]
  },
  {
   "cell_type": "code",
   "execution_count": null,
   "metadata": {},
   "outputs": [],
   "source": []
  }
 ],
 "metadata": {
  "kernelspec": {
   "display_name": "Python 3",
   "language": "python",
   "name": "python3"
  },
  "language_info": {
   "codemirror_mode": {
    "name": "ipython",
    "version": 3
   },
   "file_extension": ".py",
   "mimetype": "text/x-python",
   "name": "python",
   "nbconvert_exporter": "python",
   "pygments_lexer": "ipython3",
   "version": "3.6.9"
  }
 },
 "nbformat": 4,
 "nbformat_minor": 2
}
